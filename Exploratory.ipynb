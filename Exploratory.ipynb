{
 "cells": [
  {
   "cell_type": "markdown",
   "metadata": {
    "slideshow": {
     "slide_type": "slide"
    }
   },
   "source": [
    "# Visualizing FordBikes Data "
   ]
  },
  {
   "cell_type": "markdown",
   "metadata": {
    "slideshow": {
     "slide_type": "slide"
    }
   },
   "source": [
    "## Karthick Pandi"
   ]
  },
  {
   "cell_type": "markdown",
   "metadata": {
    "slideshow": {
     "slide_type": "slide"
    }
   },
   "source": [
    "### Table of Contents"
   ]
  },
  {
   "cell_type": "markdown",
   "metadata": {
    "slideshow": {
     "slide_type": "slide"
    }
   },
   "source": [
    "<ul>\n",
    "    <li> Introduction</li>\n",
    "    <li> Data Gathering </li>\n",
    "    <li> Data Assessing </li>\n",
    "    <li> Data Cleaning </li>\n",
    "    <li> Univariate Plots</li>\n",
    "    <li> Bivariate Plots</li>\n",
    "    <li> Multivariate Plots</li>\n",
    "</ul>"
   ]
  },
  {
   "cell_type": "markdown",
   "metadata": {
    "slideshow": {
     "slide_type": "slide"
    }
   },
   "source": [
    "### Introduction"
   ]
  },
  {
   "cell_type": "markdown",
   "metadata": {
    "slideshow": {
     "slide_type": "slide"
    }
   },
   "source": [
    "Ford GoBike is a regional public bicycle sharing system in the San Francisco Bay Area, California. Beginning operation in August 2013 as Bay Area Bike Share, the Ford GoBike system currently has over 2,600 bicycles in 262 stations across San Francisco, East Bay and San Jose. On June 28, 2017, the system officially launched as Ford GoBike in a partnership with Ford Motor Company.\n",
    "\n",
    "Ford GoBike, like other bike share systems, consists of a fleet of specially designed, sturdy and durable bikes that are locked into a network of docking stations throughout the city. The bikes can be unlocked from one station and returned to any other station in the system, making them ideal for one-way trips. The bikes are available for use 24 hours/day, 7 days/week, 365 days/year and riders have access to all bikes in the network when they become a member or purchase a pass."
   ]
  },
  {
   "cell_type": "markdown",
   "metadata": {
    "slideshow": {
     "slide_type": "slide"
    }
   },
   "source": [
    "### Preliminary Wrangling"
   ]
  },
  {
   "cell_type": "markdown",
   "metadata": {
    "slideshow": {
     "slide_type": "slide"
    }
   },
   "source": [
    "### Data Gathering"
   ]
  },
  {
   "cell_type": "code",
   "execution_count": 1,
   "metadata": {
    "slideshow": {
     "slide_type": "skip"
    }
   },
   "outputs": [],
   "source": [
    "import pandas as pd\n",
    "import glob \n",
    "import os\n",
    "import seaborn as sns\n",
    "import datetime as dt\n",
    "import matplotlib.pyplot as plt\n",
    "import warnings\n",
    "import numpy as np"
   ]
  },
  {
   "cell_type": "markdown",
   "metadata": {
    "slideshow": {
     "slide_type": "skip"
    }
   },
   "source": [
    "I have downloaded the csv files from the website mannualy and stored in a folder named Untitled Folder."
   ]
  },
  {
   "cell_type": "code",
   "execution_count": 2,
   "metadata": {
    "slideshow": {
     "slide_type": "skip"
    }
   },
   "outputs": [],
   "source": [
    "all_files = glob.glob(os.path.join(\"Untitled Folder\", \"*.csv\"))"
   ]
  },
  {
   "cell_type": "code",
   "execution_count": 3,
   "metadata": {
    "slideshow": {
     "slide_type": "skip"
    }
   },
   "outputs": [
    {
     "name": "stderr",
     "output_type": "stream",
     "text": [
      "/opt/conda/lib/python3.6/site-packages/ipykernel_launcher.py:1: DtypeWarning: Columns (13) have mixed types. Specify dtype option on import or set low_memory=False.\n",
      "  \"\"\"Entry point for launching an IPython kernel.\n",
      "/opt/conda/lib/python3.6/site-packages/ipykernel_launcher.py:1: FutureWarning: Sorting because non-concatenation axis is not aligned. A future version\n",
      "of pandas will change to not sort by default.\n",
      "\n",
      "To accept the future behavior, pass 'sort=False'.\n",
      "\n",
      "To retain the current behavior and silence the warning, pass 'sort=True'.\n",
      "\n",
      "  \"\"\"Entry point for launching an IPython kernel.\n"
     ]
    }
   ],
   "source": [
    "df = pd.concat((pd.read_csv(f) for f in all_files), ignore_index = True)"
   ]
  },
  {
   "cell_type": "code",
   "execution_count": 4,
   "metadata": {
    "slideshow": {
     "slide_type": "skip"
    }
   },
   "outputs": [],
   "source": [
    "df.to_csv('fordgobike.csv', index = False)\n"
   ]
  },
  {
   "cell_type": "code",
   "execution_count": 2,
   "metadata": {
    "slideshow": {
     "slide_type": "skip"
    }
   },
   "outputs": [
    {
     "name": "stderr",
     "output_type": "stream",
     "text": [
      "/opt/conda/lib/python3.6/site-packages/IPython/core/interactiveshell.py:2785: DtypeWarning: Columns (8,9,10,11,12,13,14,21,22,23) have mixed types. Specify dtype option on import or set low_memory=False.\n",
      "  interactivity=interactivity, compiler=compiler, result=result)\n"
     ]
    }
   ],
   "source": [
    "df = pd.read_csv('fordgobike.csv')\n"
   ]
  },
  {
   "cell_type": "markdown",
   "metadata": {
    "slideshow": {
     "slide_type": "skip"
    }
   },
   "source": [
    "### Data Assessing"
   ]
  },
  {
   "cell_type": "code",
   "execution_count": 3,
   "metadata": {
    "slideshow": {
     "slide_type": "skip"
    }
   },
   "outputs": [
    {
     "data": {
      "text/plain": [
       "(1297244, 24)"
      ]
     },
     "execution_count": 3,
     "metadata": {},
     "output_type": "execute_result"
    }
   ],
   "source": [
    "df.shape"
   ]
  },
  {
   "cell_type": "code",
   "execution_count": 4,
   "metadata": {
    "slideshow": {
     "slide_type": "skip"
    }
   },
   "outputs": [
    {
     "data": {
      "text/html": [
       "<div>\n",
       "<style scoped>\n",
       "    .dataframe tbody tr th:only-of-type {\n",
       "        vertical-align: middle;\n",
       "    }\n",
       "\n",
       "    .dataframe tbody tr th {\n",
       "        vertical-align: top;\n",
       "    }\n",
       "\n",
       "    .dataframe thead th {\n",
       "        text-align: right;\n",
       "    }\n",
       "</style>\n",
       "<table border=\"1\" class=\"dataframe\">\n",
       "  <thead>\n",
       "    <tr style=\"text-align: right;\">\n",
       "      <th></th>\n",
       "      <th>bike_id</th>\n",
       "      <th>duration_sec</th>\n",
       "      <th>end_lat</th>\n",
       "      <th>end_lng</th>\n",
       "      <th>end_station_id</th>\n",
       "      <th>end_station_latitude</th>\n",
       "      <th>end_station_longitude</th>\n",
       "      <th>end_station_name</th>\n",
       "      <th>end_time</th>\n",
       "      <th>ended_at</th>\n",
       "      <th>...</th>\n",
       "      <th>rideable_type</th>\n",
       "      <th>start_lat</th>\n",
       "      <th>start_lng</th>\n",
       "      <th>start_station_id</th>\n",
       "      <th>start_station_latitude</th>\n",
       "      <th>start_station_longitude</th>\n",
       "      <th>start_station_name</th>\n",
       "      <th>start_time</th>\n",
       "      <th>started_at</th>\n",
       "      <th>user_type</th>\n",
       "    </tr>\n",
       "  </thead>\n",
       "  <tbody>\n",
       "    <tr>\n",
       "      <th>0</th>\n",
       "      <td>NaN</td>\n",
       "      <td>NaN</td>\n",
       "      <td>37.760000</td>\n",
       "      <td>-122.420000</td>\n",
       "      <td>NaN</td>\n",
       "      <td>NaN</td>\n",
       "      <td>NaN</td>\n",
       "      <td>NaN</td>\n",
       "      <td>NaN</td>\n",
       "      <td>2020-06-03 16:48:28</td>\n",
       "      <td>...</td>\n",
       "      <td>electric_bike</td>\n",
       "      <td>37.770000</td>\n",
       "      <td>-122.40000</td>\n",
       "      <td>NaN</td>\n",
       "      <td>NaN</td>\n",
       "      <td>NaN</td>\n",
       "      <td>NaN</td>\n",
       "      <td>NaN</td>\n",
       "      <td>2020-06-03 16:37:10</td>\n",
       "      <td>NaN</td>\n",
       "    </tr>\n",
       "    <tr>\n",
       "      <th>1</th>\n",
       "      <td>NaN</td>\n",
       "      <td>NaN</td>\n",
       "      <td>37.780000</td>\n",
       "      <td>-122.460000</td>\n",
       "      <td>NaN</td>\n",
       "      <td>NaN</td>\n",
       "      <td>NaN</td>\n",
       "      <td>NaN</td>\n",
       "      <td>NaN</td>\n",
       "      <td>2020-06-03 12:44:02</td>\n",
       "      <td>...</td>\n",
       "      <td>electric_bike</td>\n",
       "      <td>37.780000</td>\n",
       "      <td>-122.49000</td>\n",
       "      <td>NaN</td>\n",
       "      <td>NaN</td>\n",
       "      <td>NaN</td>\n",
       "      <td>NaN</td>\n",
       "      <td>NaN</td>\n",
       "      <td>2020-06-03 12:22:47</td>\n",
       "      <td>NaN</td>\n",
       "    </tr>\n",
       "    <tr>\n",
       "      <th>2</th>\n",
       "      <td>NaN</td>\n",
       "      <td>NaN</td>\n",
       "      <td>37.790000</td>\n",
       "      <td>-122.440000</td>\n",
       "      <td>NaN</td>\n",
       "      <td>NaN</td>\n",
       "      <td>NaN</td>\n",
       "      <td>NaN</td>\n",
       "      <td>NaN</td>\n",
       "      <td>2020-06-02 17:52:21</td>\n",
       "      <td>...</td>\n",
       "      <td>electric_bike</td>\n",
       "      <td>37.800426</td>\n",
       "      <td>-122.41095</td>\n",
       "      <td>487.0</td>\n",
       "      <td>NaN</td>\n",
       "      <td>NaN</td>\n",
       "      <td>Powell St at Columbus Ave</td>\n",
       "      <td>NaN</td>\n",
       "      <td>2020-06-02 17:37:43</td>\n",
       "      <td>NaN</td>\n",
       "    </tr>\n",
       "    <tr>\n",
       "      <th>3</th>\n",
       "      <td>NaN</td>\n",
       "      <td>NaN</td>\n",
       "      <td>37.770000</td>\n",
       "      <td>-122.430000</td>\n",
       "      <td>NaN</td>\n",
       "      <td>NaN</td>\n",
       "      <td>NaN</td>\n",
       "      <td>NaN</td>\n",
       "      <td>NaN</td>\n",
       "      <td>2020-06-02 18:48:30</td>\n",
       "      <td>...</td>\n",
       "      <td>electric_bike</td>\n",
       "      <td>37.760000</td>\n",
       "      <td>-122.41000</td>\n",
       "      <td>NaN</td>\n",
       "      <td>NaN</td>\n",
       "      <td>NaN</td>\n",
       "      <td>NaN</td>\n",
       "      <td>NaN</td>\n",
       "      <td>2020-06-02 18:13:01</td>\n",
       "      <td>NaN</td>\n",
       "    </tr>\n",
       "    <tr>\n",
       "      <th>4</th>\n",
       "      <td>NaN</td>\n",
       "      <td>NaN</td>\n",
       "      <td>37.772894</td>\n",
       "      <td>-122.509079</td>\n",
       "      <td>521.0</td>\n",
       "      <td>NaN</td>\n",
       "      <td>NaN</td>\n",
       "      <td>48th Ave at Cabrillo St</td>\n",
       "      <td>NaN</td>\n",
       "      <td>2020-06-03 16:06:10</td>\n",
       "      <td>...</td>\n",
       "      <td>electric_bike</td>\n",
       "      <td>37.769841</td>\n",
       "      <td>-122.42921</td>\n",
       "      <td>85.0</td>\n",
       "      <td>NaN</td>\n",
       "      <td>NaN</td>\n",
       "      <td>Church St at Duboce Ave</td>\n",
       "      <td>NaN</td>\n",
       "      <td>2020-06-03 15:16:06</td>\n",
       "      <td>NaN</td>\n",
       "    </tr>\n",
       "  </tbody>\n",
       "</table>\n",
       "<p>5 rows × 24 columns</p>\n",
       "</div>"
      ],
      "text/plain": [
       "   bike_id  duration_sec    end_lat     end_lng  end_station_id  \\\n",
       "0      NaN           NaN  37.760000 -122.420000             NaN   \n",
       "1      NaN           NaN  37.780000 -122.460000             NaN   \n",
       "2      NaN           NaN  37.790000 -122.440000             NaN   \n",
       "3      NaN           NaN  37.770000 -122.430000             NaN   \n",
       "4      NaN           NaN  37.772894 -122.509079           521.0   \n",
       "\n",
       "   end_station_latitude  end_station_longitude         end_station_name  \\\n",
       "0                   NaN                    NaN                      NaN   \n",
       "1                   NaN                    NaN                      NaN   \n",
       "2                   NaN                    NaN                      NaN   \n",
       "3                   NaN                    NaN                      NaN   \n",
       "4                   NaN                    NaN  48th Ave at Cabrillo St   \n",
       "\n",
       "  end_time             ended_at    ...      rideable_type  start_lat  \\\n",
       "0      NaN  2020-06-03 16:48:28    ...      electric_bike  37.770000   \n",
       "1      NaN  2020-06-03 12:44:02    ...      electric_bike  37.780000   \n",
       "2      NaN  2020-06-02 17:52:21    ...      electric_bike  37.800426   \n",
       "3      NaN  2020-06-02 18:48:30    ...      electric_bike  37.760000   \n",
       "4      NaN  2020-06-03 16:06:10    ...      electric_bike  37.769841   \n",
       "\n",
       "   start_lng start_station_id start_station_latitude  start_station_longitude  \\\n",
       "0 -122.40000              NaN                    NaN                      NaN   \n",
       "1 -122.49000              NaN                    NaN                      NaN   \n",
       "2 -122.41095            487.0                    NaN                      NaN   \n",
       "3 -122.41000              NaN                    NaN                      NaN   \n",
       "4 -122.42921             85.0                    NaN                      NaN   \n",
       "\n",
       "          start_station_name  start_time           started_at  user_type  \n",
       "0                        NaN         NaN  2020-06-03 16:37:10        NaN  \n",
       "1                        NaN         NaN  2020-06-03 12:22:47        NaN  \n",
       "2  Powell St at Columbus Ave         NaN  2020-06-02 17:37:43        NaN  \n",
       "3                        NaN         NaN  2020-06-02 18:13:01        NaN  \n",
       "4    Church St at Duboce Ave         NaN  2020-06-03 15:16:06        NaN  \n",
       "\n",
       "[5 rows x 24 columns]"
      ]
     },
     "execution_count": 4,
     "metadata": {},
     "output_type": "execute_result"
    }
   ],
   "source": [
    "df.head()"
   ]
  },
  {
   "cell_type": "code",
   "execution_count": 5,
   "metadata": {
    "scrolled": true,
    "slideshow": {
     "slide_type": "skip"
    }
   },
   "outputs": [
    {
     "data": {
      "text/html": [
       "<div>\n",
       "<style scoped>\n",
       "    .dataframe tbody tr th:only-of-type {\n",
       "        vertical-align: middle;\n",
       "    }\n",
       "\n",
       "    .dataframe tbody tr th {\n",
       "        vertical-align: top;\n",
       "    }\n",
       "\n",
       "    .dataframe thead th {\n",
       "        text-align: right;\n",
       "    }\n",
       "</style>\n",
       "<table border=\"1\" class=\"dataframe\">\n",
       "  <thead>\n",
       "    <tr style=\"text-align: right;\">\n",
       "      <th></th>\n",
       "      <th>bike_id</th>\n",
       "      <th>duration_sec</th>\n",
       "      <th>end_lat</th>\n",
       "      <th>end_lng</th>\n",
       "      <th>end_station_id</th>\n",
       "      <th>end_station_latitude</th>\n",
       "      <th>end_station_longitude</th>\n",
       "      <th>end_station_name</th>\n",
       "      <th>end_time</th>\n",
       "      <th>ended_at</th>\n",
       "      <th>...</th>\n",
       "      <th>rideable_type</th>\n",
       "      <th>start_lat</th>\n",
       "      <th>start_lng</th>\n",
       "      <th>start_station_id</th>\n",
       "      <th>start_station_latitude</th>\n",
       "      <th>start_station_longitude</th>\n",
       "      <th>start_station_name</th>\n",
       "      <th>start_time</th>\n",
       "      <th>started_at</th>\n",
       "      <th>user_type</th>\n",
       "    </tr>\n",
       "  </thead>\n",
       "  <tbody>\n",
       "    <tr>\n",
       "      <th>1297239</th>\n",
       "      <td>NaN</td>\n",
       "      <td>NaN</td>\n",
       "      <td>37.788189</td>\n",
       "      <td>-122.420524</td>\n",
       "      <td>419.0</td>\n",
       "      <td>NaN</td>\n",
       "      <td>NaN</td>\n",
       "      <td>Fern St at Polk St</td>\n",
       "      <td>NaN</td>\n",
       "      <td>2020-08-09 14:08:30</td>\n",
       "      <td>...</td>\n",
       "      <td>docked_bike</td>\n",
       "      <td>37.788189</td>\n",
       "      <td>-122.420524</td>\n",
       "      <td>419.0</td>\n",
       "      <td>NaN</td>\n",
       "      <td>NaN</td>\n",
       "      <td>Fern St at Polk St</td>\n",
       "      <td>NaN</td>\n",
       "      <td>2020-08-09 14:06:02</td>\n",
       "      <td>NaN</td>\n",
       "    </tr>\n",
       "    <tr>\n",
       "      <th>1297240</th>\n",
       "      <td>NaN</td>\n",
       "      <td>NaN</td>\n",
       "      <td>37.780645</td>\n",
       "      <td>-122.402866</td>\n",
       "      <td>321.0</td>\n",
       "      <td>NaN</td>\n",
       "      <td>NaN</td>\n",
       "      <td>Folsom St at 5th St</td>\n",
       "      <td>NaN</td>\n",
       "      <td>2020-08-26 17:13:40</td>\n",
       "      <td>...</td>\n",
       "      <td>docked_bike</td>\n",
       "      <td>37.773062</td>\n",
       "      <td>-122.439077</td>\n",
       "      <td>71.0</td>\n",
       "      <td>NaN</td>\n",
       "      <td>NaN</td>\n",
       "      <td>Broderick St at Oak St</td>\n",
       "      <td>NaN</td>\n",
       "      <td>2020-08-26 16:44:56</td>\n",
       "      <td>NaN</td>\n",
       "    </tr>\n",
       "    <tr>\n",
       "      <th>1297241</th>\n",
       "      <td>NaN</td>\n",
       "      <td>NaN</td>\n",
       "      <td>37.777053</td>\n",
       "      <td>-122.429558</td>\n",
       "      <td>55.0</td>\n",
       "      <td>NaN</td>\n",
       "      <td>NaN</td>\n",
       "      <td>Webster St at Grove St</td>\n",
       "      <td>NaN</td>\n",
       "      <td>2020-08-31 16:39:26</td>\n",
       "      <td>...</td>\n",
       "      <td>docked_bike</td>\n",
       "      <td>37.804770</td>\n",
       "      <td>-122.403234</td>\n",
       "      <td>6.0</td>\n",
       "      <td>NaN</td>\n",
       "      <td>NaN</td>\n",
       "      <td>The Embarcadero at Sansome St</td>\n",
       "      <td>NaN</td>\n",
       "      <td>2020-08-31 16:13:51</td>\n",
       "      <td>NaN</td>\n",
       "    </tr>\n",
       "    <tr>\n",
       "      <th>1297242</th>\n",
       "      <td>NaN</td>\n",
       "      <td>NaN</td>\n",
       "      <td>37.811377</td>\n",
       "      <td>-122.265192</td>\n",
       "      <td>181.0</td>\n",
       "      <td>NaN</td>\n",
       "      <td>NaN</td>\n",
       "      <td>Grand Ave at Webster St</td>\n",
       "      <td>NaN</td>\n",
       "      <td>2020-08-01 15:14:48</td>\n",
       "      <td>...</td>\n",
       "      <td>docked_bike</td>\n",
       "      <td>37.812744</td>\n",
       "      <td>-122.247215</td>\n",
       "      <td>193.0</td>\n",
       "      <td>NaN</td>\n",
       "      <td>NaN</td>\n",
       "      <td>Grand Ave at Santa Clara Ave</td>\n",
       "      <td>NaN</td>\n",
       "      <td>2020-08-01 15:04:57</td>\n",
       "      <td>NaN</td>\n",
       "    </tr>\n",
       "    <tr>\n",
       "      <th>1297243</th>\n",
       "      <td>NaN</td>\n",
       "      <td>NaN</td>\n",
       "      <td>37.791300</td>\n",
       "      <td>-122.399051</td>\n",
       "      <td>20.0</td>\n",
       "      <td>NaN</td>\n",
       "      <td>NaN</td>\n",
       "      <td>Mechanics Monument Plaza (Market St at Bush St)</td>\n",
       "      <td>NaN</td>\n",
       "      <td>2020-08-07 20:06:49</td>\n",
       "      <td>...</td>\n",
       "      <td>docked_bike</td>\n",
       "      <td>37.773793</td>\n",
       "      <td>-122.421239</td>\n",
       "      <td>75.0</td>\n",
       "      <td>NaN</td>\n",
       "      <td>NaN</td>\n",
       "      <td>Market St at Franklin St</td>\n",
       "      <td>NaN</td>\n",
       "      <td>2020-08-07 19:44:44</td>\n",
       "      <td>NaN</td>\n",
       "    </tr>\n",
       "  </tbody>\n",
       "</table>\n",
       "<p>5 rows × 24 columns</p>\n",
       "</div>"
      ],
      "text/plain": [
       "         bike_id  duration_sec    end_lat     end_lng  end_station_id  \\\n",
       "1297239      NaN           NaN  37.788189 -122.420524           419.0   \n",
       "1297240      NaN           NaN  37.780645 -122.402866           321.0   \n",
       "1297241      NaN           NaN  37.777053 -122.429558            55.0   \n",
       "1297242      NaN           NaN  37.811377 -122.265192           181.0   \n",
       "1297243      NaN           NaN  37.791300 -122.399051            20.0   \n",
       "\n",
       "         end_station_latitude  end_station_longitude  \\\n",
       "1297239                   NaN                    NaN   \n",
       "1297240                   NaN                    NaN   \n",
       "1297241                   NaN                    NaN   \n",
       "1297242                   NaN                    NaN   \n",
       "1297243                   NaN                    NaN   \n",
       "\n",
       "                                        end_station_name end_time  \\\n",
       "1297239                               Fern St at Polk St      NaN   \n",
       "1297240                              Folsom St at 5th St      NaN   \n",
       "1297241                           Webster St at Grove St      NaN   \n",
       "1297242                          Grand Ave at Webster St      NaN   \n",
       "1297243  Mechanics Monument Plaza (Market St at Bush St)      NaN   \n",
       "\n",
       "                    ended_at    ...     rideable_type  start_lat   start_lng  \\\n",
       "1297239  2020-08-09 14:08:30    ...       docked_bike  37.788189 -122.420524   \n",
       "1297240  2020-08-26 17:13:40    ...       docked_bike  37.773062 -122.439077   \n",
       "1297241  2020-08-31 16:39:26    ...       docked_bike  37.804770 -122.403234   \n",
       "1297242  2020-08-01 15:14:48    ...       docked_bike  37.812744 -122.247215   \n",
       "1297243  2020-08-07 20:06:49    ...       docked_bike  37.773793 -122.421239   \n",
       "\n",
       "        start_station_id start_station_latitude  start_station_longitude  \\\n",
       "1297239            419.0                    NaN                      NaN   \n",
       "1297240             71.0                    NaN                      NaN   \n",
       "1297241              6.0                    NaN                      NaN   \n",
       "1297242            193.0                    NaN                      NaN   \n",
       "1297243             75.0                    NaN                      NaN   \n",
       "\n",
       "                    start_station_name  start_time           started_at  \\\n",
       "1297239             Fern St at Polk St         NaN  2020-08-09 14:06:02   \n",
       "1297240         Broderick St at Oak St         NaN  2020-08-26 16:44:56   \n",
       "1297241  The Embarcadero at Sansome St         NaN  2020-08-31 16:13:51   \n",
       "1297242   Grand Ave at Santa Clara Ave         NaN  2020-08-01 15:04:57   \n",
       "1297243       Market St at Franklin St         NaN  2020-08-07 19:44:44   \n",
       "\n",
       "         user_type  \n",
       "1297239        NaN  \n",
       "1297240        NaN  \n",
       "1297241        NaN  \n",
       "1297242        NaN  \n",
       "1297243        NaN  \n",
       "\n",
       "[5 rows x 24 columns]"
      ]
     },
     "execution_count": 5,
     "metadata": {},
     "output_type": "execute_result"
    }
   ],
   "source": [
    "df.tail()"
   ]
  },
  {
   "cell_type": "code",
   "execution_count": 6,
   "metadata": {
    "slideshow": {
     "slide_type": "skip"
    }
   },
   "outputs": [
    {
     "data": {
      "text/html": [
       "<div>\n",
       "<style scoped>\n",
       "    .dataframe tbody tr th:only-of-type {\n",
       "        vertical-align: middle;\n",
       "    }\n",
       "\n",
       "    .dataframe tbody tr th {\n",
       "        vertical-align: top;\n",
       "    }\n",
       "\n",
       "    .dataframe thead th {\n",
       "        text-align: right;\n",
       "    }\n",
       "</style>\n",
       "<table border=\"1\" class=\"dataframe\">\n",
       "  <thead>\n",
       "    <tr style=\"text-align: right;\">\n",
       "      <th></th>\n",
       "      <th>bike_id</th>\n",
       "      <th>duration_sec</th>\n",
       "      <th>end_lat</th>\n",
       "      <th>end_lng</th>\n",
       "      <th>end_station_id</th>\n",
       "      <th>end_station_latitude</th>\n",
       "      <th>end_station_longitude</th>\n",
       "      <th>end_station_name</th>\n",
       "      <th>end_time</th>\n",
       "      <th>ended_at</th>\n",
       "      <th>...</th>\n",
       "      <th>rideable_type</th>\n",
       "      <th>start_lat</th>\n",
       "      <th>start_lng</th>\n",
       "      <th>start_station_id</th>\n",
       "      <th>start_station_latitude</th>\n",
       "      <th>start_station_longitude</th>\n",
       "      <th>start_station_name</th>\n",
       "      <th>start_time</th>\n",
       "      <th>started_at</th>\n",
       "      <th>user_type</th>\n",
       "    </tr>\n",
       "  </thead>\n",
       "  <tbody>\n",
       "    <tr>\n",
       "      <th>271588</th>\n",
       "      <td>10072.0</td>\n",
       "      <td>2103.0</td>\n",
       "      <td>NaN</td>\n",
       "      <td>NaN</td>\n",
       "      <td>36.0</td>\n",
       "      <td>37.783830</td>\n",
       "      <td>-122.398870</td>\n",
       "      <td>Folsom St at 3rd St</td>\n",
       "      <td>2020-03-09 08:44:35.2270</td>\n",
       "      <td>NaN</td>\n",
       "      <td>...</td>\n",
       "      <td>NaN</td>\n",
       "      <td>NaN</td>\n",
       "      <td>NaN</td>\n",
       "      <td>6.0</td>\n",
       "      <td>37.804770</td>\n",
       "      <td>-122.403234</td>\n",
       "      <td>The Embarcadero at Sansome St</td>\n",
       "      <td>2020-03-09 08:09:31.6600</td>\n",
       "      <td>NaN</td>\n",
       "      <td>Customer</td>\n",
       "    </tr>\n",
       "    <tr>\n",
       "      <th>514616</th>\n",
       "      <td>11717.0</td>\n",
       "      <td>24237.0</td>\n",
       "      <td>NaN</td>\n",
       "      <td>NaN</td>\n",
       "      <td>239.0</td>\n",
       "      <td>37.868813</td>\n",
       "      <td>-122.258764</td>\n",
       "      <td>Bancroft Way at Telegraph Ave</td>\n",
       "      <td>2020-02-06 16:45:18.1370</td>\n",
       "      <td>NaN</td>\n",
       "      <td>...</td>\n",
       "      <td>NaN</td>\n",
       "      <td>NaN</td>\n",
       "      <td>NaN</td>\n",
       "      <td>267.0</td>\n",
       "      <td>37.861804</td>\n",
       "      <td>-122.253569</td>\n",
       "      <td>Derby St at College Ave</td>\n",
       "      <td>2020-02-06 10:01:20.2730</td>\n",
       "      <td>NaN</td>\n",
       "      <td>Subscriber</td>\n",
       "    </tr>\n",
       "    <tr>\n",
       "      <th>383644</th>\n",
       "      <td>591670.0</td>\n",
       "      <td>1500.0</td>\n",
       "      <td>NaN</td>\n",
       "      <td>NaN</td>\n",
       "      <td>NaN</td>\n",
       "      <td>37.802326</td>\n",
       "      <td>-122.400084</td>\n",
       "      <td>NaN</td>\n",
       "      <td>2020-03-01 16:09:38</td>\n",
       "      <td>NaN</td>\n",
       "      <td>...</td>\n",
       "      <td>NaN</td>\n",
       "      <td>NaN</td>\n",
       "      <td>NaN</td>\n",
       "      <td>NaN</td>\n",
       "      <td>37.783093</td>\n",
       "      <td>-122.392352</td>\n",
       "      <td>NaN</td>\n",
       "      <td>2020-03-01 15:44:37</td>\n",
       "      <td>NaN</td>\n",
       "      <td>Customer</td>\n",
       "    </tr>\n",
       "    <tr>\n",
       "      <th>1291877</th>\n",
       "      <td>NaN</td>\n",
       "      <td>NaN</td>\n",
       "      <td>37.780675</td>\n",
       "      <td>-122.400811</td>\n",
       "      <td>47.0</td>\n",
       "      <td>NaN</td>\n",
       "      <td>NaN</td>\n",
       "      <td>Clara St at 4th St</td>\n",
       "      <td>NaN</td>\n",
       "      <td>2020-08-01 14:29:40</td>\n",
       "      <td>...</td>\n",
       "      <td>docked_bike</td>\n",
       "      <td>37.760292</td>\n",
       "      <td>-122.418889</td>\n",
       "      <td>122.0</td>\n",
       "      <td>NaN</td>\n",
       "      <td>NaN</td>\n",
       "      <td>19th St at Mission St</td>\n",
       "      <td>NaN</td>\n",
       "      <td>2020-08-01 14:13:50</td>\n",
       "      <td>NaN</td>\n",
       "    </tr>\n",
       "    <tr>\n",
       "      <th>396354</th>\n",
       "      <td>153531.0</td>\n",
       "      <td>448.0</td>\n",
       "      <td>NaN</td>\n",
       "      <td>NaN</td>\n",
       "      <td>NaN</td>\n",
       "      <td>37.773457</td>\n",
       "      <td>-122.439179</td>\n",
       "      <td>NaN</td>\n",
       "      <td>2020-03-03 19:20:38</td>\n",
       "      <td>NaN</td>\n",
       "      <td>...</td>\n",
       "      <td>NaN</td>\n",
       "      <td>NaN</td>\n",
       "      <td>NaN</td>\n",
       "      <td>NaN</td>\n",
       "      <td>37.788680</td>\n",
       "      <td>-122.443171</td>\n",
       "      <td>NaN</td>\n",
       "      <td>2020-03-03 19:13:09</td>\n",
       "      <td>NaN</td>\n",
       "      <td>Subscriber</td>\n",
       "    </tr>\n",
       "    <tr>\n",
       "      <th>298181</th>\n",
       "      <td>12571.0</td>\n",
       "      <td>697.0</td>\n",
       "      <td>NaN</td>\n",
       "      <td>NaN</td>\n",
       "      <td>15.0</td>\n",
       "      <td>37.795392</td>\n",
       "      <td>-122.394203</td>\n",
       "      <td>San Francisco Ferry Building (Harry Bridges Pl...</td>\n",
       "      <td>2020-03-02 18:48:24.2620</td>\n",
       "      <td>NaN</td>\n",
       "      <td>...</td>\n",
       "      <td>NaN</td>\n",
       "      <td>NaN</td>\n",
       "      <td>NaN</td>\n",
       "      <td>81.0</td>\n",
       "      <td>37.775880</td>\n",
       "      <td>-122.393170</td>\n",
       "      <td>Berry St at 4th St</td>\n",
       "      <td>2020-03-02 18:36:46.8410</td>\n",
       "      <td>NaN</td>\n",
       "      <td>Customer</td>\n",
       "    </tr>\n",
       "    <tr>\n",
       "      <th>642648</th>\n",
       "      <td>926032.0</td>\n",
       "      <td>401.0</td>\n",
       "      <td>NaN</td>\n",
       "      <td>NaN</td>\n",
       "      <td>NaN</td>\n",
       "      <td>37.776209</td>\n",
       "      <td>-122.393118</td>\n",
       "      <td>NaN</td>\n",
       "      <td>2020-02-07 12:31:53</td>\n",
       "      <td>NaN</td>\n",
       "      <td>...</td>\n",
       "      <td>NaN</td>\n",
       "      <td>NaN</td>\n",
       "      <td>NaN</td>\n",
       "      <td>NaN</td>\n",
       "      <td>37.769445</td>\n",
       "      <td>-122.408261</td>\n",
       "      <td>NaN</td>\n",
       "      <td>2020-02-07 12:25:12</td>\n",
       "      <td>NaN</td>\n",
       "      <td>Subscriber</td>\n",
       "    </tr>\n",
       "    <tr>\n",
       "      <th>1050651</th>\n",
       "      <td>NaN</td>\n",
       "      <td>NaN</td>\n",
       "      <td>37.364015</td>\n",
       "      <td>-121.911909</td>\n",
       "      <td>392.0</td>\n",
       "      <td>NaN</td>\n",
       "      <td>NaN</td>\n",
       "      <td>Sonora Ave at 1st St</td>\n",
       "      <td>NaN</td>\n",
       "      <td>2020-07-15 13:41:11</td>\n",
       "      <td>...</td>\n",
       "      <td>electric_bike</td>\n",
       "      <td>37.360000</td>\n",
       "      <td>-121.910000</td>\n",
       "      <td>NaN</td>\n",
       "      <td>NaN</td>\n",
       "      <td>NaN</td>\n",
       "      <td>NaN</td>\n",
       "      <td>NaN</td>\n",
       "      <td>2020-07-15 13:37:21</td>\n",
       "      <td>NaN</td>\n",
       "    </tr>\n",
       "    <tr>\n",
       "      <th>1144261</th>\n",
       "      <td>NaN</td>\n",
       "      <td>NaN</td>\n",
       "      <td>37.790510</td>\n",
       "      <td>-122.432515</td>\n",
       "      <td>492.0</td>\n",
       "      <td>NaN</td>\n",
       "      <td>NaN</td>\n",
       "      <td>Webster St at Clay St</td>\n",
       "      <td>NaN</td>\n",
       "      <td>2020-07-18 10:11:08</td>\n",
       "      <td>...</td>\n",
       "      <td>electric_bike</td>\n",
       "      <td>37.777655</td>\n",
       "      <td>-122.433132</td>\n",
       "      <td>54.0</td>\n",
       "      <td>NaN</td>\n",
       "      <td>NaN</td>\n",
       "      <td>Alamo Square (Steiner St at Fulton St)</td>\n",
       "      <td>NaN</td>\n",
       "      <td>2020-07-18 10:03:37</td>\n",
       "      <td>NaN</td>\n",
       "    </tr>\n",
       "    <tr>\n",
       "      <th>109199</th>\n",
       "      <td>NaN</td>\n",
       "      <td>NaN</td>\n",
       "      <td>37.340000</td>\n",
       "      <td>-121.890000</td>\n",
       "      <td>NaN</td>\n",
       "      <td>NaN</td>\n",
       "      <td>NaN</td>\n",
       "      <td>NaN</td>\n",
       "      <td>NaN</td>\n",
       "      <td>2020-06-12 18:45:02</td>\n",
       "      <td>...</td>\n",
       "      <td>electric_bike</td>\n",
       "      <td>37.340000</td>\n",
       "      <td>-121.900000</td>\n",
       "      <td>NaN</td>\n",
       "      <td>NaN</td>\n",
       "      <td>NaN</td>\n",
       "      <td>NaN</td>\n",
       "      <td>NaN</td>\n",
       "      <td>2020-06-12 18:39:50</td>\n",
       "      <td>NaN</td>\n",
       "    </tr>\n",
       "  </tbody>\n",
       "</table>\n",
       "<p>10 rows × 24 columns</p>\n",
       "</div>"
      ],
      "text/plain": [
       "          bike_id  duration_sec    end_lat     end_lng  end_station_id  \\\n",
       "271588    10072.0        2103.0        NaN         NaN            36.0   \n",
       "514616    11717.0       24237.0        NaN         NaN           239.0   \n",
       "383644   591670.0        1500.0        NaN         NaN             NaN   \n",
       "1291877       NaN           NaN  37.780675 -122.400811            47.0   \n",
       "396354   153531.0         448.0        NaN         NaN             NaN   \n",
       "298181    12571.0         697.0        NaN         NaN            15.0   \n",
       "642648   926032.0         401.0        NaN         NaN             NaN   \n",
       "1050651       NaN           NaN  37.364015 -121.911909           392.0   \n",
       "1144261       NaN           NaN  37.790510 -122.432515           492.0   \n",
       "109199        NaN           NaN  37.340000 -121.890000             NaN   \n",
       "\n",
       "         end_station_latitude  end_station_longitude  \\\n",
       "271588              37.783830            -122.398870   \n",
       "514616              37.868813            -122.258764   \n",
       "383644              37.802326            -122.400084   \n",
       "1291877                   NaN                    NaN   \n",
       "396354              37.773457            -122.439179   \n",
       "298181              37.795392            -122.394203   \n",
       "642648              37.776209            -122.393118   \n",
       "1050651                   NaN                    NaN   \n",
       "1144261                   NaN                    NaN   \n",
       "109199                    NaN                    NaN   \n",
       "\n",
       "                                          end_station_name  \\\n",
       "271588                                 Folsom St at 3rd St   \n",
       "514616                       Bancroft Way at Telegraph Ave   \n",
       "383644                                                 NaN   \n",
       "1291877                                 Clara St at 4th St   \n",
       "396354                                                 NaN   \n",
       "298181   San Francisco Ferry Building (Harry Bridges Pl...   \n",
       "642648                                                 NaN   \n",
       "1050651                               Sonora Ave at 1st St   \n",
       "1144261                              Webster St at Clay St   \n",
       "109199                                                 NaN   \n",
       "\n",
       "                         end_time             ended_at     ...      \\\n",
       "271588   2020-03-09 08:44:35.2270                  NaN     ...       \n",
       "514616   2020-02-06 16:45:18.1370                  NaN     ...       \n",
       "383644        2020-03-01 16:09:38                  NaN     ...       \n",
       "1291877                       NaN  2020-08-01 14:29:40     ...       \n",
       "396354        2020-03-03 19:20:38                  NaN     ...       \n",
       "298181   2020-03-02 18:48:24.2620                  NaN     ...       \n",
       "642648        2020-02-07 12:31:53                  NaN     ...       \n",
       "1050651                       NaN  2020-07-15 13:41:11     ...       \n",
       "1144261                       NaN  2020-07-18 10:11:08     ...       \n",
       "109199                        NaN  2020-06-12 18:45:02     ...       \n",
       "\n",
       "         rideable_type  start_lat   start_lng start_station_id  \\\n",
       "271588             NaN        NaN         NaN              6.0   \n",
       "514616             NaN        NaN         NaN            267.0   \n",
       "383644             NaN        NaN         NaN              NaN   \n",
       "1291877    docked_bike  37.760292 -122.418889            122.0   \n",
       "396354             NaN        NaN         NaN              NaN   \n",
       "298181             NaN        NaN         NaN             81.0   \n",
       "642648             NaN        NaN         NaN              NaN   \n",
       "1050651  electric_bike  37.360000 -121.910000              NaN   \n",
       "1144261  electric_bike  37.777655 -122.433132             54.0   \n",
       "109199   electric_bike  37.340000 -121.900000              NaN   \n",
       "\n",
       "        start_station_latitude  start_station_longitude  \\\n",
       "271588               37.804770              -122.403234   \n",
       "514616               37.861804              -122.253569   \n",
       "383644               37.783093              -122.392352   \n",
       "1291877                    NaN                      NaN   \n",
       "396354               37.788680              -122.443171   \n",
       "298181               37.775880              -122.393170   \n",
       "642648               37.769445              -122.408261   \n",
       "1050651                    NaN                      NaN   \n",
       "1144261                    NaN                      NaN   \n",
       "109199                     NaN                      NaN   \n",
       "\n",
       "                             start_station_name                start_time  \\\n",
       "271588            The Embarcadero at Sansome St  2020-03-09 08:09:31.6600   \n",
       "514616                  Derby St at College Ave  2020-02-06 10:01:20.2730   \n",
       "383644                                      NaN       2020-03-01 15:44:37   \n",
       "1291877                   19th St at Mission St                       NaN   \n",
       "396354                                      NaN       2020-03-03 19:13:09   \n",
       "298181                       Berry St at 4th St  2020-03-02 18:36:46.8410   \n",
       "642648                                      NaN       2020-02-07 12:25:12   \n",
       "1050651                                     NaN                       NaN   \n",
       "1144261  Alamo Square (Steiner St at Fulton St)                       NaN   \n",
       "109199                                      NaN                       NaN   \n",
       "\n",
       "                  started_at   user_type  \n",
       "271588                   NaN    Customer  \n",
       "514616                   NaN  Subscriber  \n",
       "383644                   NaN    Customer  \n",
       "1291877  2020-08-01 14:13:50         NaN  \n",
       "396354                   NaN  Subscriber  \n",
       "298181                   NaN    Customer  \n",
       "642648                   NaN  Subscriber  \n",
       "1050651  2020-07-15 13:37:21         NaN  \n",
       "1144261  2020-07-18 10:03:37         NaN  \n",
       "109199   2020-06-12 18:39:50         NaN  \n",
       "\n",
       "[10 rows x 24 columns]"
      ]
     },
     "execution_count": 6,
     "metadata": {},
     "output_type": "execute_result"
    }
   ],
   "source": [
    "df.sample(10)"
   ]
  },
  {
   "cell_type": "code",
   "execution_count": 7,
   "metadata": {
    "slideshow": {
     "slide_type": "skip"
    }
   },
   "outputs": [
    {
     "name": "stdout",
     "output_type": "stream",
     "text": [
      "<class 'pandas.core.frame.DataFrame'>\n",
      "RangeIndex: 1297244 entries, 0 to 1297243\n",
      "Data columns (total 24 columns):\n",
      "bike_id                    609153 non-null float64\n",
      "duration_sec               609153 non-null float64\n",
      "end_lat                    687053 non-null float64\n",
      "end_lng                    687053 non-null float64\n",
      "end_station_id             708835 non-null float64\n",
      "end_station_latitude       609153 non-null float64\n",
      "end_station_longitude      609153 non-null float64\n",
      "end_station_name           709532 non-null object\n",
      "end_time                   609153 non-null object\n",
      "ended_at                   688091 non-null object\n",
      "is_equity                  138251 non-null object\n",
      "member_casual              688091 non-null object\n",
      "rental_access_method       432112 non-null object\n",
      "ride_id                    688091 non-null object\n",
      "rideable_type              688091 non-null object\n",
      "start_lat                  688091 non-null float64\n",
      "start_lng                  688091 non-null float64\n",
      "start_station_id           719183 non-null float64\n",
      "start_station_latitude     609153 non-null float64\n",
      "start_station_longitude    609153 non-null float64\n",
      "start_station_name         719836 non-null object\n",
      "start_time                 609153 non-null object\n",
      "started_at                 688091 non-null object\n",
      "user_type                  609153 non-null object\n",
      "dtypes: float64(12), object(12)\n",
      "memory usage: 237.5+ MB\n"
     ]
    }
   ],
   "source": [
    "df.info()"
   ]
  },
  {
   "cell_type": "code",
   "execution_count": 8,
   "metadata": {
    "slideshow": {
     "slide_type": "skip"
    }
   },
   "outputs": [
    {
     "data": {
      "text/plain": [
       "Index(['bike_id', 'duration_sec', 'end_lat', 'end_lng', 'end_station_id',\n",
       "       'end_station_latitude', 'end_station_longitude', 'end_station_name',\n",
       "       'end_time', 'ended_at', 'is_equity', 'member_casual',\n",
       "       'rental_access_method', 'ride_id', 'rideable_type', 'start_lat',\n",
       "       'start_lng', 'start_station_id', 'start_station_latitude',\n",
       "       'start_station_longitude', 'start_station_name', 'start_time',\n",
       "       'started_at', 'user_type'],\n",
       "      dtype='object')"
      ]
     },
     "execution_count": 8,
     "metadata": {},
     "output_type": "execute_result"
    }
   ],
   "source": [
    "df.columns"
   ]
  },
  {
   "cell_type": "code",
   "execution_count": 9,
   "metadata": {
    "slideshow": {
     "slide_type": "skip"
    }
   },
   "outputs": [
    {
     "data": {
      "text/html": [
       "<div>\n",
       "<style scoped>\n",
       "    .dataframe tbody tr th:only-of-type {\n",
       "        vertical-align: middle;\n",
       "    }\n",
       "\n",
       "    .dataframe tbody tr th {\n",
       "        vertical-align: top;\n",
       "    }\n",
       "\n",
       "    .dataframe thead th {\n",
       "        text-align: right;\n",
       "    }\n",
       "</style>\n",
       "<table border=\"1\" class=\"dataframe\">\n",
       "  <thead>\n",
       "    <tr style=\"text-align: right;\">\n",
       "      <th></th>\n",
       "      <th>bike_id</th>\n",
       "      <th>duration_sec</th>\n",
       "      <th>end_lat</th>\n",
       "      <th>end_lng</th>\n",
       "      <th>end_station_id</th>\n",
       "      <th>end_station_latitude</th>\n",
       "      <th>end_station_longitude</th>\n",
       "      <th>start_lat</th>\n",
       "      <th>start_lng</th>\n",
       "      <th>start_station_id</th>\n",
       "      <th>start_station_latitude</th>\n",
       "      <th>start_station_longitude</th>\n",
       "    </tr>\n",
       "  </thead>\n",
       "  <tbody>\n",
       "    <tr>\n",
       "      <th>count</th>\n",
       "      <td>609153.000000</td>\n",
       "      <td>609153.000000</td>\n",
       "      <td>687053.000000</td>\n",
       "      <td>687053.000000</td>\n",
       "      <td>708835.000000</td>\n",
       "      <td>609153.000000</td>\n",
       "      <td>609153.000000</td>\n",
       "      <td>688091.000000</td>\n",
       "      <td>688091.000000</td>\n",
       "      <td>719183.000000</td>\n",
       "      <td>609153.000000</td>\n",
       "      <td>609153.000000</td>\n",
       "    </tr>\n",
       "    <tr>\n",
       "      <th>mean</th>\n",
       "      <td>356779.129739</td>\n",
       "      <td>819.561811</td>\n",
       "      <td>37.726114</td>\n",
       "      <td>-122.346681</td>\n",
       "      <td>202.845026</td>\n",
       "      <td>37.745679</td>\n",
       "      <td>-122.353649</td>\n",
       "      <td>37.726157</td>\n",
       "      <td>-122.348618</td>\n",
       "      <td>207.491611</td>\n",
       "      <td>37.746342</td>\n",
       "      <td>-122.356376</td>\n",
       "    </tr>\n",
       "    <tr>\n",
       "      <th>std</th>\n",
       "      <td>304099.255058</td>\n",
       "      <td>1426.987690</td>\n",
       "      <td>0.153650</td>\n",
       "      <td>0.449651</td>\n",
       "      <td>164.353200</td>\n",
       "      <td>0.284268</td>\n",
       "      <td>0.842188</td>\n",
       "      <td>0.146684</td>\n",
       "      <td>0.176975</td>\n",
       "      <td>164.404605</td>\n",
       "      <td>0.229667</td>\n",
       "      <td>0.643771</td>\n",
       "    </tr>\n",
       "    <tr>\n",
       "      <th>min</th>\n",
       "      <td>12.000000</td>\n",
       "      <td>60.000000</td>\n",
       "      <td>0.000000</td>\n",
       "      <td>-122.559000</td>\n",
       "      <td>3.000000</td>\n",
       "      <td>0.000000</td>\n",
       "      <td>-122.575763</td>\n",
       "      <td>37.239200</td>\n",
       "      <td>-122.514300</td>\n",
       "      <td>3.000000</td>\n",
       "      <td>0.000000</td>\n",
       "      <td>-122.514230</td>\n",
       "    </tr>\n",
       "    <tr>\n",
       "      <th>25%</th>\n",
       "      <td>12445.000000</td>\n",
       "      <td>371.000000</td>\n",
       "      <td>37.760000</td>\n",
       "      <td>-122.432400</td>\n",
       "      <td>61.000000</td>\n",
       "      <td>37.765052</td>\n",
       "      <td>-122.420628</td>\n",
       "      <td>37.760000</td>\n",
       "      <td>-122.432590</td>\n",
       "      <td>66.000000</td>\n",
       "      <td>37.765052</td>\n",
       "      <td>-122.421291</td>\n",
       "    </tr>\n",
       "    <tr>\n",
       "      <th>50%</th>\n",
       "      <td>344717.000000</td>\n",
       "      <td>598.000000</td>\n",
       "      <td>37.773539</td>\n",
       "      <td>-122.412000</td>\n",
       "      <td>134.000000</td>\n",
       "      <td>37.776994</td>\n",
       "      <td>-122.404589</td>\n",
       "      <td>37.773600</td>\n",
       "      <td>-122.412083</td>\n",
       "      <td>141.000000</td>\n",
       "      <td>37.776842</td>\n",
       "      <td>-122.405084</td>\n",
       "    </tr>\n",
       "    <tr>\n",
       "      <th>75%</th>\n",
       "      <td>561777.000000</td>\n",
       "      <td>942.000000</td>\n",
       "      <td>37.788100</td>\n",
       "      <td>-122.391000</td>\n",
       "      <td>363.000000</td>\n",
       "      <td>37.790100</td>\n",
       "      <td>-122.392860</td>\n",
       "      <td>37.787700</td>\n",
       "      <td>-122.390925</td>\n",
       "      <td>369.000000</td>\n",
       "      <td>37.789825</td>\n",
       "      <td>-122.392881</td>\n",
       "    </tr>\n",
       "    <tr>\n",
       "      <th>max</th>\n",
       "      <td>999960.000000</td>\n",
       "      <td>86317.000000</td>\n",
       "      <td>37.962100</td>\n",
       "      <td>0.000000</td>\n",
       "      <td>538.000000</td>\n",
       "      <td>37.995942</td>\n",
       "      <td>0.000000</td>\n",
       "      <td>37.880222</td>\n",
       "      <td>-121.770000</td>\n",
       "      <td>538.000000</td>\n",
       "      <td>37.880222</td>\n",
       "      <td>0.000000</td>\n",
       "    </tr>\n",
       "  </tbody>\n",
       "</table>\n",
       "</div>"
      ],
      "text/plain": [
       "             bike_id   duration_sec        end_lat        end_lng  \\\n",
       "count  609153.000000  609153.000000  687053.000000  687053.000000   \n",
       "mean   356779.129739     819.561811      37.726114    -122.346681   \n",
       "std    304099.255058    1426.987690       0.153650       0.449651   \n",
       "min        12.000000      60.000000       0.000000    -122.559000   \n",
       "25%     12445.000000     371.000000      37.760000    -122.432400   \n",
       "50%    344717.000000     598.000000      37.773539    -122.412000   \n",
       "75%    561777.000000     942.000000      37.788100    -122.391000   \n",
       "max    999960.000000   86317.000000      37.962100       0.000000   \n",
       "\n",
       "       end_station_id  end_station_latitude  end_station_longitude  \\\n",
       "count   708835.000000         609153.000000          609153.000000   \n",
       "mean       202.845026             37.745679            -122.353649   \n",
       "std        164.353200              0.284268               0.842188   \n",
       "min          3.000000              0.000000            -122.575763   \n",
       "25%         61.000000             37.765052            -122.420628   \n",
       "50%        134.000000             37.776994            -122.404589   \n",
       "75%        363.000000             37.790100            -122.392860   \n",
       "max        538.000000             37.995942               0.000000   \n",
       "\n",
       "           start_lat      start_lng  start_station_id  start_station_latitude  \\\n",
       "count  688091.000000  688091.000000     719183.000000           609153.000000   \n",
       "mean       37.726157    -122.348618        207.491611               37.746342   \n",
       "std         0.146684       0.176975        164.404605                0.229667   \n",
       "min        37.239200    -122.514300          3.000000                0.000000   \n",
       "25%        37.760000    -122.432590         66.000000               37.765052   \n",
       "50%        37.773600    -122.412083        141.000000               37.776842   \n",
       "75%        37.787700    -122.390925        369.000000               37.789825   \n",
       "max        37.880222    -121.770000        538.000000               37.880222   \n",
       "\n",
       "       start_station_longitude  \n",
       "count            609153.000000  \n",
       "mean               -122.356376  \n",
       "std                   0.643771  \n",
       "min                -122.514230  \n",
       "25%                -122.421291  \n",
       "50%                -122.405084  \n",
       "75%                -122.392881  \n",
       "max                   0.000000  "
      ]
     },
     "execution_count": 9,
     "metadata": {},
     "output_type": "execute_result"
    }
   ],
   "source": [
    "df.describe()"
   ]
  },
  {
   "cell_type": "code",
   "execution_count": 10,
   "metadata": {
    "slideshow": {
     "slide_type": "skip"
    }
   },
   "outputs": [
    {
     "data": {
      "text/plain": [
       "<matplotlib.axes._subplots.AxesSubplot at 0x7fbd77b736d8>"
      ]
     },
     "execution_count": 10,
     "metadata": {},
     "output_type": "execute_result"
    },
    {
     "data": {
      "image/png": "[encoded data removed]",
      "text/plain": [
       "<matplotlib.figure.Figure at 0x7fbd7807ce80>"
      ]
     },
     "metadata": {
      "needs_background": "light"
     },
     "output_type": "display_data"
    }
   ],
   "source": [
    "sns.heatmap(df.isnull())"
   ]
  },
  {
   "cell_type": "code",
   "execution_count": 11,
   "metadata": {
    "slideshow": {
     "slide_type": "skip"
    }
   },
   "outputs": [
    {
     "data": {
      "text/plain": [
       "bike_id                     688091\n",
       "duration_sec                688091\n",
       "end_lat                     610191\n",
       "end_lng                     610191\n",
       "end_station_id              588409\n",
       "end_station_latitude        688091\n",
       "end_station_longitude       688091\n",
       "end_station_name            587712\n",
       "end_time                    688091\n",
       "ended_at                    609153\n",
       "is_equity                  1158993\n",
       "member_casual               609153\n",
       "rental_access_method        865132\n",
       "ride_id                     609153\n",
       "rideable_type               609153\n",
       "start_lat                   609153\n",
       "start_lng                   609153\n",
       "start_station_id            578061\n",
       "start_station_latitude      688091\n",
       "start_station_longitude     688091\n",
       "start_station_name          577408\n",
       "start_time                  688091\n",
       "started_at                  609153\n",
       "user_type                   688091\n",
       "dtype: int64"
      ]
     },
     "execution_count": 11,
     "metadata": {},
     "output_type": "execute_result"
    }
   ],
   "source": [
    "df.isna().sum()"
   ]
  },
  {
   "cell_type": "code",
   "execution_count": 12,
   "metadata": {
    "slideshow": {
     "slide_type": "skip"
    }
   },
   "outputs": [
    {
     "data": {
      "text/plain": [
       "7512"
      ]
     },
     "execution_count": 12,
     "metadata": {},
     "output_type": "execute_result"
    }
   ],
   "source": [
    "df.duplicated().sum()"
   ]
  },
  {
   "cell_type": "markdown",
   "metadata": {
    "slideshow": {
     "slide_type": "slide"
    }
   },
   "source": [
    "### Quality Issues"
   ]
  },
  {
   "cell_type": "markdown",
   "metadata": {
    "slideshow": {
     "slide_type": "slide"
    }
   },
   "source": [
    "<ul>\n",
    "    <li> Remove unwanted columns and missing values from the dataframe </li>\n",
    "    <li> Seperating the date and time and gets stored in seperate columns for further computation </li>\n",
    "    <li> Change the columns to its appropriate datatypes \n",
    "        <ul>\n",
    "            <li>The Columns like Start_station_id, end_station_id, bike_id are in float data type, but it has to be in the type of string.</li>\n",
    "            <li> Start_time and end_time are not in timestramp datatype </li>\n",
    "            <li> User_type has to be converted to categorical datatype </li>\n",
    "        </ul>\n",
    "     </li>       \n",
    "    <li> We can further enhance the dataset with more details about the time like month, day, hour, weekday</li>\n",
    "    <li> The bike_id has decimal value and it has to be sliced out </li>\n",
    "    \n",
    "    \n",
    "</ul>"
   ]
  },
  {
   "cell_type": "markdown",
   "metadata": {},
   "source": [
    "### Data Cleaning"
   ]
  },
  {
   "cell_type": "code",
   "execution_count": 14,
   "metadata": {
    "slideshow": {
     "slide_type": "skip"
    }
   },
   "outputs": [],
   "source": [
    "df_clean = df.copy()"
   ]
  },
  {
   "cell_type": "markdown",
   "metadata": {
    "slideshow": {
     "slide_type": "skip"
    }
   },
   "source": [
    "#### Define"
   ]
  },
  {
   "cell_type": "markdown",
   "metadata": {
    "slideshow": {
     "slide_type": "skip"
    }
   },
   "source": [
    "##### Remove unwanted columns and missing values from the dataframe"
   ]
  },
  {
   "cell_type": "markdown",
   "metadata": {
    "slideshow": {
     "slide_type": "skip"
    }
   },
   "source": [
    "#### Code"
   ]
  },
  {
   "cell_type": "code",
   "execution_count": 15,
   "metadata": {
    "slideshow": {
     "slide_type": "skip"
    }
   },
   "outputs": [],
   "source": [
    "df_clean.drop(columns=['end_lat', 'end_lng','ended_at', 'is_equity', 'member_casual','rental_access_method', 'ride_id', 'rideable_type', 'start_lat',\n",
    "       'start_lng','started_at'],axis=0,inplace=True)"
   ]
  },
  {
   "cell_type": "code",
   "execution_count": 16,
   "metadata": {
    "slideshow": {
     "slide_type": "skip"
    }
   },
   "outputs": [],
   "source": [
    "df_clean.dropna(inplace=True)"
   ]
  },
  {
   "cell_type": "code",
   "execution_count": 17,
   "metadata": {
    "slideshow": {
     "slide_type": "skip"
    }
   },
   "outputs": [],
   "source": [
    "df_clean.drop_duplicates(inplace=True)"
   ]
  },
  {
   "cell_type": "markdown",
   "metadata": {
    "slideshow": {
     "slide_type": "skip"
    }
   },
   "source": [
    "#### Test"
   ]
  },
  {
   "cell_type": "code",
   "execution_count": 18,
   "metadata": {
    "slideshow": {
     "slide_type": "skip"
    }
   },
   "outputs": [
    {
     "name": "stdout",
     "output_type": "stream",
     "text": [
      "<class 'pandas.core.frame.DataFrame'>\n",
      "Int64Index: 220740 entries, 242427 to 843379\n",
      "Data columns (total 13 columns):\n",
      "bike_id                    220740 non-null float64\n",
      "duration_sec               220740 non-null float64\n",
      "end_station_id             220740 non-null float64\n",
      "end_station_latitude       220740 non-null float64\n",
      "end_station_longitude      220740 non-null float64\n",
      "end_station_name           220740 non-null object\n",
      "end_time                   220740 non-null object\n",
      "start_station_id           220740 non-null float64\n",
      "start_station_latitude     220740 non-null float64\n",
      "start_station_longitude    220740 non-null float64\n",
      "start_station_name         220740 non-null object\n",
      "start_time                 220740 non-null object\n",
      "user_type                  220740 non-null object\n",
      "dtypes: float64(8), object(5)\n",
      "memory usage: 23.6+ MB\n"
     ]
    }
   ],
   "source": [
    "df_clean.info()"
   ]
  },
  {
   "cell_type": "code",
   "execution_count": 19,
   "metadata": {
    "slideshow": {
     "slide_type": "skip"
    }
   },
   "outputs": [
    {
     "data": {
      "text/plain": [
       "0"
      ]
     },
     "execution_count": 19,
     "metadata": {},
     "output_type": "execute_result"
    }
   ],
   "source": [
    "df_clean.duplicated().sum()"
   ]
  },
  {
   "cell_type": "code",
   "execution_count": 20,
   "metadata": {
    "slideshow": {
     "slide_type": "skip"
    }
   },
   "outputs": [
    {
     "data": {
      "text/plain": [
       "bike_id                    0\n",
       "duration_sec               0\n",
       "end_station_id             0\n",
       "end_station_latitude       0\n",
       "end_station_longitude      0\n",
       "end_station_name           0\n",
       "end_time                   0\n",
       "start_station_id           0\n",
       "start_station_latitude     0\n",
       "start_station_longitude    0\n",
       "start_station_name         0\n",
       "start_time                 0\n",
       "user_type                  0\n",
       "dtype: int64"
      ]
     },
     "execution_count": 20,
     "metadata": {},
     "output_type": "execute_result"
    }
   ],
   "source": [
    "df_clean.isna().sum()"
   ]
  },
  {
   "cell_type": "markdown",
   "metadata": {
    "slideshow": {
     "slide_type": "skip"
    }
   },
   "source": [
    "#### Define"
   ]
  },
  {
   "cell_type": "markdown",
   "metadata": {
    "slideshow": {
     "slide_type": "skip"
    }
   },
   "source": [
    "##### Seperating the date and time and gets stored in seperate columns for further computation"
   ]
  },
  {
   "cell_type": "markdown",
   "metadata": {
    "slideshow": {
     "slide_type": "skip"
    }
   },
   "source": [
    "#### Code"
   ]
  },
  {
   "cell_type": "code",
   "execution_count": 21,
   "metadata": {
    "slideshow": {
     "slide_type": "skip"
    }
   },
   "outputs": [],
   "source": [
    "df_clean[\"startdate\"] = df_clean.start_time.str.slice(0,10)\n",
    "df_clean[\"starttime\"]= df_clean.start_time.str.slice(10,22)\n",
    "df_clean[\"enddate\"] = df_clean.end_time.str.slice(0,10)\n",
    "df_clean[\"endtime\"]= df_clean.end_time.str.slice(10,22)"
   ]
  },
  {
   "cell_type": "code",
   "execution_count": 22,
   "metadata": {
    "slideshow": {
     "slide_type": "skip"
    }
   },
   "outputs": [],
   "source": [
    "# Removing the columns start_time and end_time since it has no use further\n",
    "df_clean.drop(columns=[\"start_time\",\"end_time\"],axis=0,inplace=True)"
   ]
  },
  {
   "cell_type": "markdown",
   "metadata": {
    "slideshow": {
     "slide_type": "skip"
    }
   },
   "source": [
    "#### Test"
   ]
  },
  {
   "cell_type": "code",
   "execution_count": 23,
   "metadata": {
    "slideshow": {
     "slide_type": "skip"
    }
   },
   "outputs": [
    {
     "data": {
      "text/html": [
       "<div>\n",
       "<style scoped>\n",
       "    .dataframe tbody tr th:only-of-type {\n",
       "        vertical-align: middle;\n",
       "    }\n",
       "\n",
       "    .dataframe tbody tr th {\n",
       "        vertical-align: top;\n",
       "    }\n",
       "\n",
       "    .dataframe thead th {\n",
       "        text-align: right;\n",
       "    }\n",
       "</style>\n",
       "<table border=\"1\" class=\"dataframe\">\n",
       "  <thead>\n",
       "    <tr style=\"text-align: right;\">\n",
       "      <th></th>\n",
       "      <th>enddate</th>\n",
       "      <th>endtime</th>\n",
       "    </tr>\n",
       "  </thead>\n",
       "  <tbody>\n",
       "    <tr>\n",
       "      <th>242427</th>\n",
       "      <td>2020-04-01</td>\n",
       "      <td>06:28:37.84</td>\n",
       "    </tr>\n",
       "    <tr>\n",
       "      <th>242428</th>\n",
       "      <td>2020-04-01</td>\n",
       "      <td>02:48:13.77</td>\n",
       "    </tr>\n",
       "    <tr>\n",
       "      <th>242429</th>\n",
       "      <td>2020-04-01</td>\n",
       "      <td>01:08:12.99</td>\n",
       "    </tr>\n",
       "    <tr>\n",
       "      <th>242430</th>\n",
       "      <td>2020-04-01</td>\n",
       "      <td>00:12:49.02</td>\n",
       "    </tr>\n",
       "    <tr>\n",
       "      <th>242431</th>\n",
       "      <td>2020-03-31</td>\n",
       "      <td>23:55:56.61</td>\n",
       "    </tr>\n",
       "  </tbody>\n",
       "</table>\n",
       "</div>"
      ],
      "text/plain": [
       "           enddate       endtime\n",
       "242427  2020-04-01   06:28:37.84\n",
       "242428  2020-04-01   02:48:13.77\n",
       "242429  2020-04-01   01:08:12.99\n",
       "242430  2020-04-01   00:12:49.02\n",
       "242431  2020-03-31   23:55:56.61"
      ]
     },
     "execution_count": 23,
     "metadata": {},
     "output_type": "execute_result"
    }
   ],
   "source": [
    "df_clean.iloc[:,13:18].head(5)"
   ]
  },
  {
   "cell_type": "markdown",
   "metadata": {
    "slideshow": {
     "slide_type": "skip"
    }
   },
   "source": [
    "#### Define"
   ]
  },
  {
   "cell_type": "markdown",
   "metadata": {
    "slideshow": {
     "slide_type": "skip"
    }
   },
   "source": [
    "##### Changing the columns to its  appropriate datatypes"
   ]
  },
  {
   "cell_type": "markdown",
   "metadata": {
    "slideshow": {
     "slide_type": "skip"
    }
   },
   "source": [
    "#### Code"
   ]
  },
  {
   "cell_type": "code",
   "execution_count": 24,
   "metadata": {
    "slideshow": {
     "slide_type": "skip"
    }
   },
   "outputs": [],
   "source": [
    "df_clean.startdate = pd.to_datetime(df_clean.startdate)\n",
    "df_clean.enddate = pd.to_datetime(df_clean.enddate)\n",
    "df_clean.start_station_id = df_clean.start_station_id.astype(str)\n",
    "df_clean.bike_id = df_clean.bike_id.astype(str)\n",
    "df_clean.end_station_id = df_clean.end_station_id.astype(str)"
   ]
  },
  {
   "cell_type": "code",
   "execution_count": 25,
   "metadata": {
    "slideshow": {
     "slide_type": "skip"
    }
   },
   "outputs": [
    {
     "data": {
      "text/plain": [
       "array(['Customer', 'Subscriber'], dtype=object)"
      ]
     },
     "execution_count": 25,
     "metadata": {},
     "output_type": "execute_result"
    }
   ],
   "source": [
    "df_clean.user_type.unique()"
   ]
  },
  {
   "cell_type": "code",
   "execution_count": 26,
   "metadata": {
    "slideshow": {
     "slide_type": "skip"
    }
   },
   "outputs": [],
   "source": [
    "user_order = ['Customer', 'Subscriber']\n",
    "userorder = pd.api.types.CategoricalDtype(user_order)\n",
    "df_clean.user_type = df_clean.user_type.astype(userorder)"
   ]
  },
  {
   "cell_type": "markdown",
   "metadata": {
    "slideshow": {
     "slide_type": "skip"
    }
   },
   "source": [
    "#### Test"
   ]
  },
  {
   "cell_type": "code",
   "execution_count": 27,
   "metadata": {
    "slideshow": {
     "slide_type": "skip"
    }
   },
   "outputs": [
    {
     "name": "stdout",
     "output_type": "stream",
     "text": [
      "<class 'pandas.core.frame.DataFrame'>\n",
      "Int64Index: 220740 entries, 242427 to 843379\n",
      "Data columns (total 15 columns):\n",
      "bike_id                    220740 non-null object\n",
      "duration_sec               220740 non-null float64\n",
      "end_station_id             220740 non-null object\n",
      "end_station_latitude       220740 non-null float64\n",
      "end_station_longitude      220740 non-null float64\n",
      "end_station_name           220740 non-null object\n",
      "start_station_id           220740 non-null object\n",
      "start_station_latitude     220740 non-null float64\n",
      "start_station_longitude    220740 non-null float64\n",
      "start_station_name         220740 non-null object\n",
      "user_type                  220740 non-null category\n",
      "startdate                  220740 non-null datetime64[ns]\n",
      "starttime                  220740 non-null object\n",
      "enddate                    220740 non-null datetime64[ns]\n",
      "endtime                    220740 non-null object\n",
      "dtypes: category(1), datetime64[ns](2), float64(5), object(7)\n",
      "memory usage: 25.5+ MB\n"
     ]
    }
   ],
   "source": [
    "df_clean.info()"
   ]
  },
  {
   "cell_type": "markdown",
   "metadata": {
    "slideshow": {
     "slide_type": "skip"
    }
   },
   "source": [
    "#### Define"
   ]
  },
  {
   "cell_type": "markdown",
   "metadata": {
    "slideshow": {
     "slide_type": "skip"
    }
   },
   "source": [
    "##### Enhance the dataset with more details about the time like month, day, hour, weekday"
   ]
  },
  {
   "cell_type": "markdown",
   "metadata": {
    "slideshow": {
     "slide_type": "skip"
    }
   },
   "source": [
    "#### Code"
   ]
  },
  {
   "cell_type": "code",
   "execution_count": 28,
   "metadata": {
    "slideshow": {
     "slide_type": "skip"
    }
   },
   "outputs": [],
   "source": [
    "df_clean[\"start_date\"] = df_clean.startdate.dt.day\n",
    "df_clean[\"start_month\"] = df_clean.startdate.dt.month\n",
    "df_clean[\"start_day\"]=df_clean.startdate.dt.dayofweek\n",
    "df_clean[\"start_year\"]=df_clean.startdate.dt.year\n",
    "df_clean[\"end_date\"] = df_clean.enddate.dt.day\n",
    "df_clean[\"end_month\"] = df_clean.enddate.dt.month\n",
    "df_clean[\"end_day\"]=df_clean.enddate.dt.dayofweek\n",
    "df_clean[\"end_year\"]=df_clean.enddate.dt.year"
   ]
  },
  {
   "cell_type": "code",
   "execution_count": 29,
   "metadata": {
    "slideshow": {
     "slide_type": "skip"
    }
   },
   "outputs": [],
   "source": [
    "day_map = {0:'Monday',1:'Tuesday',2:'Wednesday',3:'Thrusday',4:'Friday',5:'Saturday',6:'Sunday'}\n",
    "df_clean[\"start_day\"] = df_clean.start_day.map(day_map)\n",
    "df_clean.end_day = df_clean.end_day.map(day_map)\n",
    "\n",
    "monthname = {1:'Jan',2:\"Feb\",3:\"Mar\",4:\"Apr\",5:\"May\",6:\"Jun\",7:\"Jul\",8:\"Aug\",9:\"Sep\",10:\"Oct\",11:\"Nov\",12:\"Dec\"}\n",
    "df_clean.start_month = df_clean.start_month.map(monthname)\n",
    "df_clean.end_month = df_clean.end_month.map(monthname)\n",
    "\n",
    "df_clean['duration_min'] = df_clean['duration_sec']/60\n",
    "df_clean['duration_min'] = df_clean['duration_min'].astype(int)\n",
    "\n",
    "\n",
    "df_clean[\"NumOfDays\"] = df_clean.enddate - df_clean.startdate"
   ]
  },
  {
   "cell_type": "code",
   "execution_count": 30,
   "metadata": {
    "slideshow": {
     "slide_type": "skip"
    }
   },
   "outputs": [],
   "source": [
    "df_clean[\"start_hour\"] = df_clean.starttime.str.slice(1,3)\n",
    "df_clean[\"end_hour\"] = df_clean.endtime.str.slice(1,3)"
   ]
  },
  {
   "cell_type": "markdown",
   "metadata": {
    "slideshow": {
     "slide_type": "skip"
    }
   },
   "source": [
    "#### Test"
   ]
  },
  {
   "cell_type": "code",
   "execution_count": 31,
   "metadata": {
    "scrolled": true,
    "slideshow": {
     "slide_type": "skip"
    }
   },
   "outputs": [
    {
     "name": "stdout",
     "output_type": "stream",
     "text": [
      "<class 'pandas.core.frame.DataFrame'>\n",
      "Int64Index: 220740 entries, 242427 to 843379\n",
      "Data columns (total 27 columns):\n",
      "bike_id                    220740 non-null object\n",
      "duration_sec               220740 non-null float64\n",
      "end_station_id             220740 non-null object\n",
      "end_station_latitude       220740 non-null float64\n",
      "end_station_longitude      220740 non-null float64\n",
      "end_station_name           220740 non-null object\n",
      "start_station_id           220740 non-null object\n",
      "start_station_latitude     220740 non-null float64\n",
      "start_station_longitude    220740 non-null float64\n",
      "start_station_name         220740 non-null object\n",
      "user_type                  220740 non-null category\n",
      "startdate                  220740 non-null datetime64[ns]\n",
      "starttime                  220740 non-null object\n",
      "enddate                    220740 non-null datetime64[ns]\n",
      "endtime                    220740 non-null object\n",
      "start_date                 220740 non-null int64\n",
      "start_month                220740 non-null object\n",
      "start_day                  220740 non-null object\n",
      "start_year                 220740 non-null int64\n",
      "end_date                   220740 non-null int64\n",
      "end_month                  220740 non-null object\n",
      "end_day                    220740 non-null object\n",
      "end_year                   220740 non-null int64\n",
      "duration_min               220740 non-null int64\n",
      "NumOfDays                  220740 non-null timedelta64[ns]\n",
      "start_hour                 220740 non-null object\n",
      "end_hour                   220740 non-null object\n",
      "dtypes: category(1), datetime64[ns](2), float64(5), int64(5), object(13), timedelta64[ns](1)\n",
      "memory usage: 45.7+ MB\n"
     ]
    }
   ],
   "source": [
    "df_clean.info()"
   ]
  },
  {
   "cell_type": "code",
   "execution_count": 32,
   "metadata": {
    "slideshow": {
     "slide_type": "skip"
    }
   },
   "outputs": [
    {
     "data": {
      "text/html": [
       "<div>\n",
       "<style scoped>\n",
       "    .dataframe tbody tr th:only-of-type {\n",
       "        vertical-align: middle;\n",
       "    }\n",
       "\n",
       "    .dataframe tbody tr th {\n",
       "        vertical-align: top;\n",
       "    }\n",
       "\n",
       "    .dataframe thead th {\n",
       "        text-align: right;\n",
       "    }\n",
       "</style>\n",
       "<table border=\"1\" class=\"dataframe\">\n",
       "  <thead>\n",
       "    <tr style=\"text-align: right;\">\n",
       "      <th></th>\n",
       "      <th>start_date</th>\n",
       "      <th>start_month</th>\n",
       "      <th>start_day</th>\n",
       "      <th>start_year</th>\n",
       "      <th>end_date</th>\n",
       "      <th>end_month</th>\n",
       "      <th>end_day</th>\n",
       "      <th>end_year</th>\n",
       "      <th>duration_min</th>\n",
       "      <th>NumOfDays</th>\n",
       "      <th>start_hour</th>\n",
       "      <th>end_hour</th>\n",
       "    </tr>\n",
       "  </thead>\n",
       "  <tbody>\n",
       "    <tr>\n",
       "      <th>242427</th>\n",
       "      <td>31</td>\n",
       "      <td>Mar</td>\n",
       "      <td>Tuesday</td>\n",
       "      <td>2020</td>\n",
       "      <td>1</td>\n",
       "      <td>Apr</td>\n",
       "      <td>Wednesday</td>\n",
       "      <td>2020</td>\n",
       "      <td>586</td>\n",
       "      <td>1 days</td>\n",
       "      <td>20</td>\n",
       "      <td>06</td>\n",
       "    </tr>\n",
       "    <tr>\n",
       "      <th>242428</th>\n",
       "      <td>31</td>\n",
       "      <td>Mar</td>\n",
       "      <td>Tuesday</td>\n",
       "      <td>2020</td>\n",
       "      <td>1</td>\n",
       "      <td>Apr</td>\n",
       "      <td>Wednesday</td>\n",
       "      <td>2020</td>\n",
       "      <td>242</td>\n",
       "      <td>1 days</td>\n",
       "      <td>22</td>\n",
       "      <td>02</td>\n",
       "    </tr>\n",
       "    <tr>\n",
       "      <th>242429</th>\n",
       "      <td>31</td>\n",
       "      <td>Mar</td>\n",
       "      <td>Tuesday</td>\n",
       "      <td>2020</td>\n",
       "      <td>1</td>\n",
       "      <td>Apr</td>\n",
       "      <td>Wednesday</td>\n",
       "      <td>2020</td>\n",
       "      <td>599</td>\n",
       "      <td>1 days</td>\n",
       "      <td>15</td>\n",
       "      <td>01</td>\n",
       "    </tr>\n",
       "    <tr>\n",
       "      <th>242430</th>\n",
       "      <td>31</td>\n",
       "      <td>Mar</td>\n",
       "      <td>Tuesday</td>\n",
       "      <td>2020</td>\n",
       "      <td>1</td>\n",
       "      <td>Apr</td>\n",
       "      <td>Wednesday</td>\n",
       "      <td>2020</td>\n",
       "      <td>17</td>\n",
       "      <td>1 days</td>\n",
       "      <td>23</td>\n",
       "      <td>00</td>\n",
       "    </tr>\n",
       "    <tr>\n",
       "      <th>242431</th>\n",
       "      <td>31</td>\n",
       "      <td>Mar</td>\n",
       "      <td>Tuesday</td>\n",
       "      <td>2020</td>\n",
       "      <td>31</td>\n",
       "      <td>Mar</td>\n",
       "      <td>Tuesday</td>\n",
       "      <td>2020</td>\n",
       "      <td>55</td>\n",
       "      <td>0 days</td>\n",
       "      <td>23</td>\n",
       "      <td>23</td>\n",
       "    </tr>\n",
       "  </tbody>\n",
       "</table>\n",
       "</div>"
      ],
      "text/plain": [
       "        start_date start_month start_day  start_year  end_date end_month  \\\n",
       "242427          31         Mar   Tuesday        2020         1       Apr   \n",
       "242428          31         Mar   Tuesday        2020         1       Apr   \n",
       "242429          31         Mar   Tuesday        2020         1       Apr   \n",
       "242430          31         Mar   Tuesday        2020         1       Apr   \n",
       "242431          31         Mar   Tuesday        2020        31       Mar   \n",
       "\n",
       "          end_day  end_year  duration_min NumOfDays start_hour end_hour  \n",
       "242427  Wednesday      2020           586    1 days         20       06  \n",
       "242428  Wednesday      2020           242    1 days         22       02  \n",
       "242429  Wednesday      2020           599    1 days         15       01  \n",
       "242430  Wednesday      2020            17    1 days         23       00  \n",
       "242431    Tuesday      2020            55    0 days         23       23  "
      ]
     },
     "execution_count": 32,
     "metadata": {},
     "output_type": "execute_result"
    }
   ],
   "source": [
    "df_clean.iloc[:,15:27].head(5)"
   ]
  },
  {
   "cell_type": "markdown",
   "metadata": {
    "slideshow": {
     "slide_type": "skip"
    }
   },
   "source": [
    "#### Define"
   ]
  },
  {
   "cell_type": "markdown",
   "metadata": {
    "slideshow": {
     "slide_type": "skip"
    }
   },
   "source": [
    "##### The bike_id has decimal value and it has to be sliced out"
   ]
  },
  {
   "cell_type": "markdown",
   "metadata": {
    "slideshow": {
     "slide_type": "skip"
    }
   },
   "source": [
    "#### Code"
   ]
  },
  {
   "cell_type": "code",
   "execution_count": 33,
   "metadata": {
    "slideshow": {
     "slide_type": "skip"
    }
   },
   "outputs": [],
   "source": [
    "df_clean.bike_id=df_clean['bike_id'].str.split('.').str[0]"
   ]
  },
  {
   "cell_type": "markdown",
   "metadata": {
    "slideshow": {
     "slide_type": "skip"
    }
   },
   "source": [
    "#### Test"
   ]
  },
  {
   "cell_type": "code",
   "execution_count": 34,
   "metadata": {
    "slideshow": {
     "slide_type": "skip"
    }
   },
   "outputs": [
    {
     "data": {
      "text/html": [
       "<div>\n",
       "<style scoped>\n",
       "    .dataframe tbody tr th:only-of-type {\n",
       "        vertical-align: middle;\n",
       "    }\n",
       "\n",
       "    .dataframe tbody tr th {\n",
       "        vertical-align: top;\n",
       "    }\n",
       "\n",
       "    .dataframe thead th {\n",
       "        text-align: right;\n",
       "    }\n",
       "</style>\n",
       "<table border=\"1\" class=\"dataframe\">\n",
       "  <thead>\n",
       "    <tr style=\"text-align: right;\">\n",
       "      <th></th>\n",
       "      <th>bike_id</th>\n",
       "    </tr>\n",
       "  </thead>\n",
       "  <tbody>\n",
       "    <tr>\n",
       "      <th>242427</th>\n",
       "      <td>10982</td>\n",
       "    </tr>\n",
       "    <tr>\n",
       "      <th>242428</th>\n",
       "      <td>12617</td>\n",
       "    </tr>\n",
       "    <tr>\n",
       "      <th>242429</th>\n",
       "      <td>12812</td>\n",
       "    </tr>\n",
       "    <tr>\n",
       "      <th>242430</th>\n",
       "      <td>12955</td>\n",
       "    </tr>\n",
       "    <tr>\n",
       "      <th>242431</th>\n",
       "      <td>13050</td>\n",
       "    </tr>\n",
       "  </tbody>\n",
       "</table>\n",
       "</div>"
      ],
      "text/plain": [
       "       bike_id\n",
       "242427   10982\n",
       "242428   12617\n",
       "242429   12812\n",
       "242430   12955\n",
       "242431   13050"
      ]
     },
     "execution_count": 34,
     "metadata": {},
     "output_type": "execute_result"
    }
   ],
   "source": [
    "df_clean.iloc[:,[0]].head(5)"
   ]
  },
  {
   "cell_type": "markdown",
   "metadata": {
    "slideshow": {
     "slide_type": "skip"
    }
   },
   "source": [
    "#### Define"
   ]
  },
  {
   "cell_type": "markdown",
   "metadata": {
    "slideshow": {
     "slide_type": "skip"
    }
   },
   "source": [
    "#### Correcting the spelling on Start_day column which holds wrong value"
   ]
  },
  {
   "cell_type": "markdown",
   "metadata": {
    "slideshow": {
     "slide_type": "skip"
    }
   },
   "source": [
    "#### Code"
   ]
  },
  {
   "cell_type": "code",
   "execution_count": 36,
   "metadata": {
    "slideshow": {
     "slide_type": "skip"
    }
   },
   "outputs": [
    {
     "data": {
      "text/plain": [
       "array(['Tuesday', 'Monday', 'Sunday', 'Saturday', 'Friday', 'Thrusday',\n",
       "       'Wednesday'], dtype=object)"
      ]
     },
     "execution_count": 36,
     "metadata": {},
     "output_type": "execute_result"
    }
   ],
   "source": [
    "df_clean.start_day.unique()"
   ]
  },
  {
   "cell_type": "code",
   "execution_count": 37,
   "metadata": {
    "slideshow": {
     "slide_type": "skip"
    }
   },
   "outputs": [],
   "source": [
    "def changeday(day):\n",
    "    if day == \"Thrusday\":\n",
    "        return \"Thursday\"\n",
    "    else:\n",
    "        return day\n",
    "df_clean.start_day = df_clean.start_day.apply(changeday)"
   ]
  },
  {
   "cell_type": "markdown",
   "metadata": {
    "slideshow": {
     "slide_type": "skip"
    }
   },
   "source": [
    "#### Test"
   ]
  },
  {
   "cell_type": "code",
   "execution_count": 38,
   "metadata": {
    "slideshow": {
     "slide_type": "skip"
    }
   },
   "outputs": [
    {
     "data": {
      "text/plain": [
       "array(['Tuesday', 'Monday', 'Sunday', 'Saturday', 'Friday', 'Thursday',\n",
       "       'Wednesday'], dtype=object)"
      ]
     },
     "execution_count": 38,
     "metadata": {},
     "output_type": "execute_result"
    }
   ],
   "source": [
    "df_clean.start_day.unique()"
   ]
  },
  {
   "cell_type": "code",
   "execution_count": 39,
   "metadata": {
    "slideshow": {
     "slide_type": "skip"
    }
   },
   "outputs": [],
   "source": [
    "# Reordering the dataframe\n",
    "new_structure = ['bike_id','user_type','startdate', 'starttime', \n",
    "       'start_date', 'start_month', 'start_day', 'start_year','start_hour','enddate', 'endtime', 'end_date',\n",
    "       'end_month', 'end_day', 'end_year','end_hour','NumOfDays','duration_min','duration_sec', 'start_station_id', 'start_station_name',\n",
    "       'start_station_latitude', 'start_station_longitude', 'end_station_id',\n",
    "       'end_station_name', 'end_station_latitude', 'end_station_longitude']\n",
    "\n",
    "df_clean = df_clean.reindex(columns=new_structure)"
   ]
  },
  {
   "cell_type": "code",
   "execution_count": 40,
   "metadata": {
    "slideshow": {
     "slide_type": "skip"
    }
   },
   "outputs": [
    {
     "data": {
      "text/html": [
       "<div>\n",
       "<style scoped>\n",
       "    .dataframe tbody tr th:only-of-type {\n",
       "        vertical-align: middle;\n",
       "    }\n",
       "\n",
       "    .dataframe tbody tr th {\n",
       "        vertical-align: top;\n",
       "    }\n",
       "\n",
       "    .dataframe thead th {\n",
       "        text-align: right;\n",
       "    }\n",
       "</style>\n",
       "<table border=\"1\" class=\"dataframe\">\n",
       "  <thead>\n",
       "    <tr style=\"text-align: right;\">\n",
       "      <th></th>\n",
       "      <th>bike_id</th>\n",
       "      <th>user_type</th>\n",
       "      <th>startdate</th>\n",
       "      <th>starttime</th>\n",
       "      <th>start_date</th>\n",
       "      <th>start_month</th>\n",
       "      <th>start_day</th>\n",
       "      <th>start_year</th>\n",
       "      <th>start_hour</th>\n",
       "      <th>enddate</th>\n",
       "      <th>...</th>\n",
       "      <th>duration_min</th>\n",
       "      <th>duration_sec</th>\n",
       "      <th>start_station_id</th>\n",
       "      <th>start_station_name</th>\n",
       "      <th>start_station_latitude</th>\n",
       "      <th>start_station_longitude</th>\n",
       "      <th>end_station_id</th>\n",
       "      <th>end_station_name</th>\n",
       "      <th>end_station_latitude</th>\n",
       "      <th>end_station_longitude</th>\n",
       "    </tr>\n",
       "  </thead>\n",
       "  <tbody>\n",
       "    <tr>\n",
       "      <th>242427</th>\n",
       "      <td>10982</td>\n",
       "      <td>Customer</td>\n",
       "      <td>2020-03-31</td>\n",
       "      <td>20:42:10.07</td>\n",
       "      <td>31</td>\n",
       "      <td>Mar</td>\n",
       "      <td>Tuesday</td>\n",
       "      <td>2020</td>\n",
       "      <td>20</td>\n",
       "      <td>2020-04-01</td>\n",
       "      <td>...</td>\n",
       "      <td>586</td>\n",
       "      <td>35187.0</td>\n",
       "      <td>462.0</td>\n",
       "      <td>Cruise Terminal at Pier 27</td>\n",
       "      <td>37.804648</td>\n",
       "      <td>-122.402087</td>\n",
       "      <td>24.0</td>\n",
       "      <td>Spear St at Folsom St</td>\n",
       "      <td>37.789677</td>\n",
       "      <td>-122.390428</td>\n",
       "    </tr>\n",
       "    <tr>\n",
       "      <th>242428</th>\n",
       "      <td>12617</td>\n",
       "      <td>Customer</td>\n",
       "      <td>2020-03-31</td>\n",
       "      <td>22:45:25.50</td>\n",
       "      <td>31</td>\n",
       "      <td>Mar</td>\n",
       "      <td>Tuesday</td>\n",
       "      <td>2020</td>\n",
       "      <td>22</td>\n",
       "      <td>2020-04-01</td>\n",
       "      <td>...</td>\n",
       "      <td>242</td>\n",
       "      <td>14568.0</td>\n",
       "      <td>42.0</td>\n",
       "      <td>San Francisco City Hall (Polk St at Grove St)</td>\n",
       "      <td>37.778650</td>\n",
       "      <td>-122.418230</td>\n",
       "      <td>370.0</td>\n",
       "      <td>Jones St at Post St</td>\n",
       "      <td>37.787327</td>\n",
       "      <td>-122.413278</td>\n",
       "    </tr>\n",
       "    <tr>\n",
       "      <th>242429</th>\n",
       "      <td>12812</td>\n",
       "      <td>Customer</td>\n",
       "      <td>2020-03-31</td>\n",
       "      <td>15:08:22.33</td>\n",
       "      <td>31</td>\n",
       "      <td>Mar</td>\n",
       "      <td>Tuesday</td>\n",
       "      <td>2020</td>\n",
       "      <td>15</td>\n",
       "      <td>2020-04-01</td>\n",
       "      <td>...</td>\n",
       "      <td>599</td>\n",
       "      <td>35990.0</td>\n",
       "      <td>391.0</td>\n",
       "      <td>1st St at Younger Ave</td>\n",
       "      <td>37.355030</td>\n",
       "      <td>-121.904436</td>\n",
       "      <td>397.0</td>\n",
       "      <td>Gish Rd at 1st St</td>\n",
       "      <td>37.361867</td>\n",
       "      <td>-121.909315</td>\n",
       "    </tr>\n",
       "    <tr>\n",
       "      <th>242430</th>\n",
       "      <td>12955</td>\n",
       "      <td>Customer</td>\n",
       "      <td>2020-03-31</td>\n",
       "      <td>23:55:00.42</td>\n",
       "      <td>31</td>\n",
       "      <td>Mar</td>\n",
       "      <td>Tuesday</td>\n",
       "      <td>2020</td>\n",
       "      <td>23</td>\n",
       "      <td>2020-04-01</td>\n",
       "      <td>...</td>\n",
       "      <td>17</td>\n",
       "      <td>1068.0</td>\n",
       "      <td>456.0</td>\n",
       "      <td>Arguello Blvd at Geary Blvd</td>\n",
       "      <td>37.781468</td>\n",
       "      <td>-122.458806</td>\n",
       "      <td>107.0</td>\n",
       "      <td>17th St at Dolores St</td>\n",
       "      <td>37.763015</td>\n",
       "      <td>-122.426497</td>\n",
       "    </tr>\n",
       "    <tr>\n",
       "      <th>242431</th>\n",
       "      <td>13050</td>\n",
       "      <td>Customer</td>\n",
       "      <td>2020-03-31</td>\n",
       "      <td>23:00:55.64</td>\n",
       "      <td>31</td>\n",
       "      <td>Mar</td>\n",
       "      <td>Tuesday</td>\n",
       "      <td>2020</td>\n",
       "      <td>23</td>\n",
       "      <td>2020-03-31</td>\n",
       "      <td>...</td>\n",
       "      <td>55</td>\n",
       "      <td>3300.0</td>\n",
       "      <td>6.0</td>\n",
       "      <td>The Embarcadero at Sansome St</td>\n",
       "      <td>37.804770</td>\n",
       "      <td>-122.403234</td>\n",
       "      <td>24.0</td>\n",
       "      <td>Spear St at Folsom St</td>\n",
       "      <td>37.789677</td>\n",
       "      <td>-122.390428</td>\n",
       "    </tr>\n",
       "  </tbody>\n",
       "</table>\n",
       "<p>5 rows × 27 columns</p>\n",
       "</div>"
      ],
      "text/plain": [
       "       bike_id user_type  startdate     starttime  start_date start_month  \\\n",
       "242427   10982  Customer 2020-03-31   20:42:10.07          31         Mar   \n",
       "242428   12617  Customer 2020-03-31   22:45:25.50          31         Mar   \n",
       "242429   12812  Customer 2020-03-31   15:08:22.33          31         Mar   \n",
       "242430   12955  Customer 2020-03-31   23:55:00.42          31         Mar   \n",
       "242431   13050  Customer 2020-03-31   23:00:55.64          31         Mar   \n",
       "\n",
       "       start_day  start_year start_hour    enddate          ...           \\\n",
       "242427   Tuesday        2020         20 2020-04-01          ...            \n",
       "242428   Tuesday        2020         22 2020-04-01          ...            \n",
       "242429   Tuesday        2020         15 2020-04-01          ...            \n",
       "242430   Tuesday        2020         23 2020-04-01          ...            \n",
       "242431   Tuesday        2020         23 2020-03-31          ...            \n",
       "\n",
       "       duration_min  duration_sec start_station_id  \\\n",
       "242427          586       35187.0            462.0   \n",
       "242428          242       14568.0             42.0   \n",
       "242429          599       35990.0            391.0   \n",
       "242430           17        1068.0            456.0   \n",
       "242431           55        3300.0              6.0   \n",
       "\n",
       "                                   start_station_name  start_station_latitude  \\\n",
       "242427                     Cruise Terminal at Pier 27               37.804648   \n",
       "242428  San Francisco City Hall (Polk St at Grove St)               37.778650   \n",
       "242429                          1st St at Younger Ave               37.355030   \n",
       "242430                    Arguello Blvd at Geary Blvd               37.781468   \n",
       "242431                  The Embarcadero at Sansome St               37.804770   \n",
       "\n",
       "       start_station_longitude end_station_id       end_station_name  \\\n",
       "242427             -122.402087           24.0  Spear St at Folsom St   \n",
       "242428             -122.418230          370.0    Jones St at Post St   \n",
       "242429             -121.904436          397.0      Gish Rd at 1st St   \n",
       "242430             -122.458806          107.0  17th St at Dolores St   \n",
       "242431             -122.403234           24.0  Spear St at Folsom St   \n",
       "\n",
       "        end_station_latitude end_station_longitude  \n",
       "242427             37.789677           -122.390428  \n",
       "242428             37.787327           -122.413278  \n",
       "242429             37.361867           -121.909315  \n",
       "242430             37.763015           -122.426497  \n",
       "242431             37.789677           -122.390428  \n",
       "\n",
       "[5 rows x 27 columns]"
      ]
     },
     "execution_count": 40,
     "metadata": {},
     "output_type": "execute_result"
    }
   ],
   "source": [
    "df_clean.head(5)"
   ]
  },
  {
   "cell_type": "markdown",
   "metadata": {
    "slideshow": {
     "slide_type": "slide"
    }
   },
   "source": [
    "### What is/are the main feature(s) of interest in your dataset?"
   ]
  },
  {
   "cell_type": "markdown",
   "metadata": {},
   "source": [
    "The main feature of interest in this dataset according to me is the start and end times of the ride taken i.e. month/weekday/hour/number of days rented. With this data, we can forecast the demand of the bikes. Apart from the wheather the users had any membership or they or casual users."
   ]
  },
  {
   "cell_type": "markdown",
   "metadata": {
    "slideshow": {
     "slide_type": "slide"
    }
   },
   "source": [
    "### Univariate Plots"
   ]
  },
  {
   "cell_type": "code",
   "execution_count": 41,
   "metadata": {
    "slideshow": {
     "slide_type": "skip"
    }
   },
   "outputs": [],
   "source": [
    "base_color = sns.color_palette()[0]"
   ]
  },
  {
   "cell_type": "markdown",
   "metadata": {
    "slideshow": {
     "slide_type": "slide"
    }
   },
   "source": [
    "##### FordGo bike usage by month "
   ]
  },
  {
   "cell_type": "code",
   "execution_count": 42,
   "metadata": {
    "slideshow": {
     "slide_type": "subslide"
    }
   },
   "outputs": [
    {
     "data": {
      "image/png": "[encoded data removed]",
      "text/plain": [
       "<matplotlib.figure.Figure at 0x7fbd630762b0>"
      ]
     },
     "metadata": {
      "needs_background": "light"
     },
     "output_type": "display_data"
    }
   ],
   "source": [
    "plt.figure(figsize=(7,7));\n",
    "level_order = [\"Feb\",\"Mar\",\"Apr\"]\n",
    "ordered_month = pd.api.types.CategoricalDtype(level_order);\n",
    "df_clean[\"start_month\"] = df_clean[\"start_month\"].astype(ordered_month);\n",
    "sns.countplot(data=df_clean,x=\"start_month\",color=base_color);\n",
    "plt.xlabel(\"Month\");\n",
    "plt.ylabel(\"Total number of bike trips\");\n",
    "plt.suptitle('FordGoBike usage by month',y=1.05,fontsize=16,fontweight='bold');\n",
    "n_points= df_clean.shape[0]\n",
    "cat_counts = df_clean.start_month.value_counts()\n",
    "locs, labels = plt.xticks()\n",
    "for loc, label in zip(locs, labels):\n",
    "    count = cat_counts[label.get_text()]\n",
    "    pct_string = '{:1.5f}%'.format(100*count/n_points)\n",
    "    plt.text(loc, count-8, pct_string, ha = 'center', color = 'r')"
   ]
  },
  {
   "cell_type": "markdown",
   "metadata": {
    "slideshow": {
     "slide_type": "slide"
    }
   },
   "source": [
    "#### Observation"
   ]
  },
  {
   "cell_type": "markdown",
   "metadata": {
    "slideshow": {
     "slide_type": "slide"
    }
   },
   "source": [
    "It is evident from the above graph that February is the month where there are more number of bikes has been rented for the year 2020 and April places the last position in the number of bikes rented. As per the wikipedia info San fransisco bay area is more  sunnier in february  when compared to normal summer months."
   ]
  },
  {
   "cell_type": "markdown",
   "metadata": {
    "slideshow": {
     "slide_type": "slide"
    }
   },
   "source": [
    "##### FordGo bike usage by day"
   ]
  },
  {
   "cell_type": "code",
   "execution_count": 43,
   "metadata": {
    "slideshow": {
     "slide_type": "subslide"
    }
   },
   "outputs": [
    {
     "data": {
      "text/plain": [
       "Tuesday      38599\n",
       "Wednesday    37554\n",
       "Monday       36152\n",
       "Thursday     35609\n",
       "Friday       32698\n",
       "Saturday     20698\n",
       "Sunday       19430\n",
       "Name: start_day, dtype: int64"
      ]
     },
     "execution_count": 43,
     "metadata": {},
     "output_type": "execute_result"
    }
   ],
   "source": [
    "df_clean.start_day.value_counts()"
   ]
  },
  {
   "cell_type": "code",
   "execution_count": 44,
   "metadata": {
    "scrolled": true,
    "slideshow": {
     "slide_type": "slide"
    }
   },
   "outputs": [
    {
     "data": {
      "image/png": "[encoded data removed]",
      "text/plain": [
       "<matplotlib.figure.Figure at 0x7fbd5a816e80>"
      ]
     },
     "metadata": {
      "needs_background": "light"
     },
     "output_type": "display_data"
    }
   ],
   "source": [
    "plt.figure(figsize=(7,7));\n",
    "level_order1 = [\"Sunday\",\"Monday\",\"Tuesday\",\"Wednesday\",\"Thursday\",\"Friday\",\"Saturday\"]\n",
    "ordered_day = pd.api.types.CategoricalDtype(level_order1);\n",
    "df_clean[\"start_day\"] = df_clean[\"start_day\"].astype(ordered_day);\n",
    "sns.countplot(data=df_clean,x=\"start_day\",color=base_color);\n",
    "plt.xticks(rotation = 30);\n",
    "plt.xlabel(\"Days in a week\");\n",
    "plt.ylabel(\"Number of bikes rented\");\n",
    "plt.suptitle('FordGoBike usage by day',y=1.05,fontsize=16,fontweight='bold');\n",
    "n_points= df_clean.shape[0]\n",
    "cat_counts = df_clean.start_day.value_counts()\n",
    "locs, labels = plt.xticks()\n",
    "for loc, label in zip(locs, labels):\n",
    "    count = cat_counts[label.get_text()]\n",
    "    pct_string = '{:1.5f}%'.format(100*count/n_points)\n",
    "    plt.text(loc, count-5, pct_string, ha = 'center', color = 'r')"
   ]
  },
  {
   "cell_type": "markdown",
   "metadata": {
    "slideshow": {
     "slide_type": "slide"
    }
   },
   "source": [
    "#### Observation"
   ]
  },
  {
   "cell_type": "markdown",
   "metadata": {
    "slideshow": {
     "slide_type": "slide"
    }
   },
   "source": [
    "It is conclusive from the graph that more number of bikes has been rented on week days than in week ends. There might be possibilities like most of the bikes has been rented by the office proffesional on week days and also it is clear from the wikipedia info that the wheather is good on these months which makes the office proffessinal to prefer bikes."
   ]
  },
  {
   "cell_type": "markdown",
   "metadata": {
    "slideshow": {
     "slide_type": "slide"
    }
   },
   "source": [
    "##### FordGo bike usage by hours"
   ]
  },
  {
   "cell_type": "code",
   "execution_count": 45,
   "metadata": {
    "slideshow": {
     "slide_type": "skip"
    }
   },
   "outputs": [
    {
     "data": {
      "text/plain": [
       "17    25326\n",
       "08    24491\n",
       "18    20389\n",
       "09    18747\n",
       "16    16573\n",
       "19    12831\n",
       "15    11610\n",
       "07    11475\n",
       "12    10849\n",
       "13    10625\n",
       "14    10348\n",
       "10    10223\n",
       "11     9877\n",
       "20     7944\n",
       "21     5475\n",
       "06     4110\n",
       "22     3744\n",
       "23     2084\n",
       "00     1169\n",
       "05     1119\n",
       "01      671\n",
       "02      473\n",
       "04      360\n",
       "03      227\n",
       "Name: start_hour, dtype: int64"
      ]
     },
     "execution_count": 45,
     "metadata": {},
     "output_type": "execute_result"
    }
   ],
   "source": [
    "df_clean.start_hour.value_counts()"
   ]
  },
  {
   "cell_type": "code",
   "execution_count": 46,
   "metadata": {},
   "outputs": [
    {
     "data": {
      "text/plain": [
       "array(['20', '22', '15', '23', '21', '19', '18', '17', '16', '14', '13',\n",
       "       '12', '11', '10', '09', '08', '07', '06', '05', '04', '03', '01',\n",
       "       '00', '02'], dtype=object)"
      ]
     },
     "execution_count": 46,
     "metadata": {},
     "output_type": "execute_result"
    }
   ],
   "source": [
    "df_clean.start_hour.unique()"
   ]
  },
  {
   "cell_type": "code",
   "execution_count": 47,
   "metadata": {
    "scrolled": true,
    "slideshow": {
     "slide_type": "subslide"
    }
   },
   "outputs": [
    {
     "data": {
      "image/png": "[encoded data removed]",
      "text/plain": [
       "<matplotlib.figure.Figure at 0x7fbd58a76358>"
      ]
     },
     "metadata": {
      "needs_background": "light"
     },
     "output_type": "display_data"
    }
   ],
   "source": [
    "plt.figure(figsize=(7,7))\n",
    "level_order3= [\"00\",\"01\",\"02\",\"03\",\"04\",\"05\",\"06\",\"07\",\"08\",\"09\",\"10\",\"11\",\"12\",\"13\",\"14\",\"15\",\"16\",\"17\",\"18\",\"19\",\"20\",\"21\",\"22\",\"23\"]\n",
    "ordered_hour1 = pd.api.types.CategoricalDtype(level_order3);\n",
    "df_clean[\"end_hour\"] = df_clean[\"end_hour\"].astype(ordered_hour1);\n",
    "sns.countplot(data=df_clean,x=\"end_hour\",color=base_color);\n",
    "plt.xticks(rotation = 30);\n",
    "plt.xlabel(\"Hours in a day\");\n",
    "plt.ylabel(\"Number of bikes rented\");\n",
    "plt.suptitle('FordGoBike usage by hour',y=1.05,fontsize=16,fontweight='bold');\n"
   ]
  },
  {
   "cell_type": "markdown",
   "metadata": {
    "slideshow": {
     "slide_type": "slide"
    }
   },
   "source": [
    "#### Observation"
   ]
  },
  {
   "cell_type": "markdown",
   "metadata": {
    "slideshow": {
     "slide_type": "slide"
    }
   },
   "source": [
    "From the above bar chart it is clear that bikes is rented by most people on morning 8 and 9 which indirectly implies that these are office startinng times. Apart from these two hours we can seen some clear spike on evening 5 and 6 PM this might be because of closing time of office. So the office proffessional rented the bikes gone some picknic with their families and had fun at late evening."
   ]
  },
  {
   "cell_type": "markdown",
   "metadata": {
    "slideshow": {
     "slide_type": "slide"
    }
   },
   "source": [
    "#### FordGoBike system trip duration in seconds."
   ]
  },
  {
   "cell_type": "code",
   "execution_count": 48,
   "metadata": {},
   "outputs": [
    {
     "data": {
      "text/plain": [
       "count    220740.000000\n",
       "mean        852.974916\n",
       "std        2038.373724\n",
       "min          60.000000\n",
       "25%         356.000000\n",
       "50%         577.000000\n",
       "75%         918.000000\n",
       "max       86317.000000\n",
       "Name: duration_sec, dtype: float64"
      ]
     },
     "execution_count": 48,
     "metadata": {},
     "output_type": "execute_result"
    }
   ],
   "source": [
    "df_clean.duration_sec.describe()"
   ]
  },
  {
   "cell_type": "code",
   "execution_count": 49,
   "metadata": {
    "slideshow": {
     "slide_type": "subslide"
    }
   },
   "outputs": [
    {
     "data": {
      "image/png": "[encoded data removed]",
      "text/plain": [
       "<matplotlib.figure.Figure at 0x7fbd58ad5a90>"
      ]
     },
     "metadata": {
      "needs_background": "light"
     },
     "output_type": "display_data"
    }
   ],
   "source": [
    "plt.figure(figsize=(7,7))\n",
    "bin_edges = np.arange(0,3600,60)\n",
    "plt.hist(data=df_clean,x=\"duration_sec\",bins=bin_edges,rwidth=0.7);\n",
    "plt.suptitle('FordGoBike usage by seconds',y=1.05,fontsize=16,fontweight='bold');\n",
    "plt.xlabel(\"Duration (sec)\")\n",
    "plt.ylabel(\"Number of bikes rented\");\n"
   ]
  },
  {
   "cell_type": "markdown",
   "metadata": {
    "slideshow": {
     "slide_type": "slide"
    }
   },
   "source": [
    "#### Observation"
   ]
  },
  {
   "cell_type": "markdown",
   "metadata": {
    "slideshow": {
     "slide_type": "slide"
    }
   },
   "source": [
    " Looking at the histogram, we can see that trip durations are no longer than 30 min (1800 sec) and usually last 6 to 15 min.As it looks like people use the system for commuting, they trips are usually short in time probably due to the closeness of their homes to workplace."
   ]
  },
  {
   "cell_type": "markdown",
   "metadata": {
    "slideshow": {
     "slide_type": "slide"
    }
   },
   "source": [
    " #### FordGoBike system trip duration in minutes"
   ]
  },
  {
   "cell_type": "code",
   "execution_count": 50,
   "metadata": {},
   "outputs": [
    {
     "data": {
      "text/plain": [
       "count    220740.000000\n",
       "mean         13.725229\n",
       "std          33.973066\n",
       "min           1.000000\n",
       "25%           5.000000\n",
       "50%           9.000000\n",
       "75%          15.000000\n",
       "max        1438.000000\n",
       "Name: duration_min, dtype: float64"
      ]
     },
     "execution_count": 50,
     "metadata": {},
     "output_type": "execute_result"
    }
   ],
   "source": [
    "df_clean.duration_min.describe()"
   ]
  },
  {
   "cell_type": "code",
   "execution_count": 51,
   "metadata": {
    "slideshow": {
     "slide_type": "subslide"
    }
   },
   "outputs": [
    {
     "data": {
      "image/png": "[encoded data removed]",
      "text/plain": [
       "<matplotlib.figure.Figure at 0x7fbd59841ef0>"
      ]
     },
     "metadata": {
      "needs_background": "light"
     },
     "output_type": "display_data"
    }
   ],
   "source": [
    "plt.figure(figsize=(7,7))\n",
    "bin_edges = np.arange(0,45,1)\n",
    "ticks = [0, 5, 10, 15, 20, 25, 30,  35, 40, 45]\n",
    "labels = ['{}'.format(val) for val in ticks]\n",
    "plt.hist(data=df_clean,x=\"duration_min\",bins=bin_edges,rwidth=0.6);\n",
    "plt.suptitle('FordGoBike usage by minutes',y=1.05,fontsize=16,fontweight='bold');\n",
    "plt.xlabel(\"Duration (Min)\")\n",
    "plt.ylabel(\"Number of bikes rented\");\n",
    "plt.xticks(ticks,labels);"
   ]
  },
  {
   "cell_type": "markdown",
   "metadata": {
    "slideshow": {
     "slide_type": "slide"
    }
   },
   "source": [
    "#### Observation"
   ]
  },
  {
   "cell_type": "markdown",
   "metadata": {
    "slideshow": {
     "slide_type": "slide"
    }
   },
   "source": [
    "As seen in the earlier visualization,the average trip is just under 13.75 minutes, with 75% of trips being around 15 minutes. Looking at the histogram, most rides fall in between the 3 - 11 minute range suggesting that people use the system for short commute travel."
   ]
  },
  {
   "cell_type": "markdown",
   "metadata": {
    "slideshow": {
     "slide_type": "slide"
    }
   },
   "source": [
    "### Bivariate plots"
   ]
  },
  {
   "cell_type": "markdown",
   "metadata": {
    "slideshow": {
     "slide_type": "slide"
    }
   },
   "source": [
    "#### FordGo bike usage on every months categorized by its types of users"
   ]
  },
  {
   "cell_type": "code",
   "execution_count": 52,
   "metadata": {},
   "outputs": [
    {
     "data": {
      "text/html": [
       "<div>\n",
       "<style scoped>\n",
       "    .dataframe tbody tr th:only-of-type {\n",
       "        vertical-align: middle;\n",
       "    }\n",
       "\n",
       "    .dataframe tbody tr th {\n",
       "        vertical-align: top;\n",
       "    }\n",
       "\n",
       "    .dataframe thead th {\n",
       "        text-align: right;\n",
       "    }\n",
       "</style>\n",
       "<table border=\"1\" class=\"dataframe\">\n",
       "  <thead>\n",
       "    <tr style=\"text-align: right;\">\n",
       "      <th></th>\n",
       "      <th>start_month</th>\n",
       "      <th>user_type</th>\n",
       "      <th>Group_Count</th>\n",
       "    </tr>\n",
       "  </thead>\n",
       "  <tbody>\n",
       "    <tr>\n",
       "      <th>0</th>\n",
       "      <td>Feb</td>\n",
       "      <td>Customer</td>\n",
       "      <td>112140</td>\n",
       "    </tr>\n",
       "    <tr>\n",
       "      <th>1</th>\n",
       "      <td>Feb</td>\n",
       "      <td>Subscriber</td>\n",
       "      <td>16502</td>\n",
       "    </tr>\n",
       "    <tr>\n",
       "      <th>2</th>\n",
       "      <td>Mar</td>\n",
       "      <td>Customer</td>\n",
       "      <td>63670</td>\n",
       "    </tr>\n",
       "    <tr>\n",
       "      <th>3</th>\n",
       "      <td>Mar</td>\n",
       "      <td>Subscriber</td>\n",
       "      <td>27971</td>\n",
       "    </tr>\n",
       "    <tr>\n",
       "      <th>4</th>\n",
       "      <td>Apr</td>\n",
       "      <td>Customer</td>\n",
       "      <td>55</td>\n",
       "    </tr>\n",
       "    <tr>\n",
       "      <th>5</th>\n",
       "      <td>Apr</td>\n",
       "      <td>Subscriber</td>\n",
       "      <td>402</td>\n",
       "    </tr>\n",
       "  </tbody>\n",
       "</table>\n",
       "</div>"
      ],
      "text/plain": [
       "  start_month   user_type  Group_Count\n",
       "0         Feb    Customer       112140\n",
       "1         Feb  Subscriber        16502\n",
       "2         Mar    Customer        63670\n",
       "3         Mar  Subscriber        27971\n",
       "4         Apr    Customer           55\n",
       "5         Apr  Subscriber          402"
      ]
     },
     "execution_count": 52,
     "metadata": {},
     "output_type": "execute_result"
    }
   ],
   "source": [
    "User_types = pd.DataFrame(df_clean.groupby([\"start_month\",\"user_type\"])[\"user_type\"].count().reset_index(name = \"Group_Count\"))\n",
    "User_types"
   ]
  },
  {
   "cell_type": "markdown",
   "metadata": {
    "slideshow": {
     "slide_type": "slide"
    }
   },
   "source": [
    "### FordGoBike usage by month Vs User types using Bar Chart"
   ]
  },
  {
   "cell_type": "code",
   "execution_count": 53,
   "metadata": {
    "slideshow": {
     "slide_type": "subslide"
    }
   },
   "outputs": [
    {
     "data": {
      "image/png": "[encoded data removed]",
      "text/plain": [
       "<matplotlib.figure.Figure at 0x7fbd58e490f0>"
      ]
     },
     "metadata": {
      "needs_background": "light"
     },
     "output_type": "display_data"
    }
   ],
   "source": [
    "plt.figure(figsize=(7,7));\n",
    "plt.suptitle('FordGoBike usage by month Vs User types using Bar Chart',y=1.05,fontsize=16,fontweight='bold');\n",
    "sns.countplot(data=df_clean,x=\"start_month\",hue=\"user_type\");\n",
    "plt.xlabel(\"Months\");\n",
    "plt.ylabel(\"Number of bikes rented\");\n",
    "plt.legend(loc = 0, ncol = 3, framealpha = 1, title = 'User Types');\n"
   ]
  },
  {
   "cell_type": "markdown",
   "metadata": {
    "slideshow": {
     "slide_type": "slide"
    }
   },
   "source": [
    "### Observation"
   ]
  },
  {
   "cell_type": "markdown",
   "metadata": {
    "slideshow": {
     "slide_type": "slide"
    }
   },
   "source": [
    "From the above bar chart there is no much Subscribers for the month February and March when compared to Customers. It indirectly implies there is no much cost saving if you been subscribed for the FordGo bikes.And for the month April there is more Subscribers then compared to Customers which implies FordGo bikes may launch any offer or discount schemes for the customers who subscribed for the fordgo bikes."
   ]
  },
  {
   "cell_type": "markdown",
   "metadata": {
    "slideshow": {
     "slide_type": "slide"
    }
   },
   "source": [
    "### FordGoBike usage by month Vs User types using Heat Map"
   ]
  },
  {
   "cell_type": "code",
   "execution_count": 54,
   "metadata": {
    "slideshow": {
     "slide_type": "subslide"
    }
   },
   "outputs": [
    {
     "data": {
      "image/png": "[encoded data removed]",
      "text/plain": [
       "<matplotlib.figure.Figure at 0x7fbd58dcd8d0>"
      ]
     },
     "metadata": {
      "needs_background": "light"
     },
     "output_type": "display_data"
    }
   ],
   "source": [
    "plt.figure(figsize=(7,7));\n",
    "plt.suptitle('FordGoBike usage by month Vs User types using Heat Map',y=1.05,fontsize=16,fontweight='bold');\n",
    "sns.heatmap(User_types.pivot(index=\"user_type\",columns=\"start_month\",values=\"Group_Count\"),annot=True,fmt= 'd');\n",
    "plt.xlabel(\"Months\");\n",
    "plt.ylabel(\"User types\");"
   ]
  },
  {
   "cell_type": "markdown",
   "metadata": {
    "slideshow": {
     "slide_type": "slide"
    }
   },
   "source": [
    "This heat map is the resemblence of the above bar chart and in the above heat map we can conclude that April is the only months where the subscribed customers rented the bikes more when compared to other months"
   ]
  },
  {
   "cell_type": "markdown",
   "metadata": {
    "slideshow": {
     "slide_type": "slide"
    }
   },
   "source": [
    "### FordGoBike usage by minutes categorized by days"
   ]
  },
  {
   "cell_type": "code",
   "execution_count": 55,
   "metadata": {
    "scrolled": false,
    "slideshow": {
     "slide_type": "subslide"
    }
   },
   "outputs": [
    {
     "data": {
      "image/png": "[encoded data removed]",
      "text/plain": [
       "<matplotlib.figure.Figure at 0x7fbd5905c518>"
      ]
     },
     "metadata": {
      "needs_background": "light"
     },
     "output_type": "display_data"
    }
   ],
   "source": [
    "plt.figure(figsize=(7,7));\n",
    "plt.ylim(0,200)\n",
    "plt.suptitle('FordGoBike usage by minutes categorized by days',y=1.05,fontsize=16,fontweight='bold');\n",
    "sns.violinplot(data = df_clean, x = 'start_day', y = 'duration_min',inner=None,color=base_color)\n",
    "plt.xlabel(\"Days\");\n",
    "plt.ylabel(\"Duration (min)\");"
   ]
  },
  {
   "cell_type": "markdown",
   "metadata": {
    "slideshow": {
     "slide_type": "slide"
    }
   },
   "source": [
    "From the above violin plot, it is evident that all of the days has more number of rides with a maximum journey period around 1/2 hour.This can be clearly visualized from this violin plot distributions. From this violin plot we can see where the records has been distributed widely but for clear picture of these records I opt pointplot."
   ]
  },
  {
   "cell_type": "markdown",
   "metadata": {
    "slideshow": {
     "slide_type": "slide"
    }
   },
   "source": [
    "### Ford GoBike System Weekly Usage - Customers vs. Subscribers"
   ]
  },
  {
   "cell_type": "code",
   "execution_count": 60,
   "metadata": {
    "scrolled": true,
    "slideshow": {
     "slide_type": "subslide"
    }
   },
   "outputs": [
    {
     "data": {
      "image/png": "[encoded data removed]",
      "text/plain": [
       "<matplotlib.figure.Figure at 0x7fbd59549f98>"
      ]
     },
     "metadata": {
      "needs_background": "light"
     },
     "output_type": "display_data"
    }
   ],
   "source": [
    "plt.figure(figsize=(8, 5))\n",
    "\n",
    "df_clean_user_week = df_clean.groupby(['start_day', 'user_type']).size().reset_index()\n",
    "\n",
    "weekday = ['Monday', 'Tuesday', 'Wednesday', 'Thursday', 'Friday', 'Saturday', 'Sunday']\n",
    "\n",
    "ax = sns.pointplot(data=df_clean_user_week, x='start_day', y=0, hue = 'user_type', scale=.7, order = weekday);\n",
    "\n",
    "plt.suptitle('Ford GoBike System Weekly Usage - Customers vs. Subscribers', y=1.05, fontsize=16, fontweight='bold');\n",
    "plt.xlabel('Weekday')\n",
    "plt.ylabel('Total number of bike trips');\n",
    "plt.grid()"
   ]
  },
  {
   "cell_type": "markdown",
   "metadata": {
    "slideshow": {
     "slide_type": "slide"
    }
   },
   "source": [
    "From the above pointplot we can conclude that Week end has encounters some drop when compared to Week days. On week days Customer has more than 50% in number (bike rides) when compared to user type Subscribers."
   ]
  },
  {
   "cell_type": "markdown",
   "metadata": {
    "slideshow": {
     "slide_type": "slide"
    }
   },
   "source": [
    "### Ford GoBike System Weekly Usage - Customers vs. Subscribers"
   ]
  },
  {
   "cell_type": "code",
   "execution_count": 57,
   "metadata": {
    "slideshow": {
     "slide_type": "subslide"
    }
   },
   "outputs": [
    {
     "data": {
      "text/plain": [
       "<matplotlib.figure.Figure at 0x7fbd5a816828>"
      ]
     },
     "metadata": {},
     "output_type": "display_data"
    },
    {
     "data": {
      "image/png": "[encoded data removed]",
      "text/plain": [
       "<matplotlib.figure.Figure at 0x7fbd58d97160>"
      ]
     },
     "metadata": {
      "needs_background": "light"
     },
     "output_type": "display_data"
    }
   ],
   "source": [
    "plt.figure(figsize=(10,10));\n",
    "plt.suptitle('c',y=1.05,fontsize=16,fontweight='bold');\n",
    "facet = sns.FacetGrid(data=df_clean,col='start_month');\n",
    "bin_edges = np.arange(0,3600,60);\n",
    "facet.map(plt.hist,\"duration_sec\",bins=bin_edges);\n",
    "facet.set_titles('{col_name}');\n",
    "facet.axes[0,0].set_xlabel('Duraion (Sec)');\n",
    "facet.axes[0,1].set_xlabel('Duraion (Sec)');\n",
    "facet.axes[0,2].set_xlabel('Duraion (Sec)');\n",
    "facet.axes[0,0].set_ylabel('Total number of bike trips');\n",
    "facet.axes[0,1].set_ylabel('Total number of bike trips');\n",
    "facet.axes[0,2].set_ylabel('Total number of bike trips');"
   ]
  },
  {
   "cell_type": "markdown",
   "metadata": {
    "slideshow": {
     "slide_type": "slide"
    }
   },
   "source": [
    "From the above facet grod histogram , we can conclude that february is the month where the bike has been rented for around 10000 seconds i,e) 166 minutes and this the top most time consumption ride when compared to all other rides irrespective of any months."
   ]
  },
  {
   "cell_type": "markdown",
   "metadata": {
    "slideshow": {
     "slide_type": "slide"
    }
   },
   "source": [
    "### Multivariate Exploration"
   ]
  },
  {
   "cell_type": "markdown",
   "metadata": {
    "slideshow": {
     "slide_type": "slide"
    }
   },
   "source": [
    "### FordGoBike usage by minutes as per months - Customers Vs Subcribers"
   ]
  },
  {
   "cell_type": "code",
   "execution_count": 68,
   "metadata": {
    "slideshow": {
     "slide_type": "subslide"
    }
   },
   "outputs": [
    {
     "name": "stderr",
     "output_type": "stream",
     "text": [
      "/opt/conda/lib/python3.6/site-packages/seaborn/axisgrid.py:703: UserWarning: Using the boxplot function without specifying `order` is likely to produce an incorrect plot.\n",
      "  warnings.warn(warning)\n"
     ]
    },
    {
     "data": {
      "text/plain": [
       "<matplotlib.figure.Figure at 0x7fbd58d28e48>"
      ]
     },
     "metadata": {},
     "output_type": "display_data"
    },
    {
     "data": {
      "image/png": "[encoded data removed]",
      "text/plain": [
       "<matplotlib.figure.Figure at 0x7fbd58fdd518>"
      ]
     },
     "metadata": {
      "needs_background": "light"
     },
     "output_type": "display_data"
    }
   ],
   "source": [
    "plt.figure(figsize=(10,10));\n",
    "\n",
    "facet = sns.FacetGrid(data = df_clean, col = 'start_month', size = 4);\n",
    "facet.map(sns.boxplot, 'user_type', 'duration_min');\n",
    "plt.ylim(0,100);\n",
    "plt.suptitle('FordGoBike usage by minutes as per months - Customers Vs Subcribers',y=1.05,fontsize=16,fontweight='bold');\n",
    "facet.set_titles('{col_name}');\n",
    "facet.axes[0,0].set_xlabel('User Types');\n",
    "facet.axes[0,1].set_xlabel('User Types');\n",
    "facet.axes[0,2].set_xlabel('User Types');\n",
    "facet.axes[0,0].set_ylabel('Duration (Min)');\n",
    "facet.axes[0,1].set_ylabel('Duration (Min)');\n",
    "facet.axes[0,2].set_ylabel('Duration (Min)');"
   ]
  },
  {
   "cell_type": "markdown",
   "metadata": {
    "slideshow": {
     "slide_type": "slide"
    }
   },
   "source": [
    "From the above box plot April is the month which holds very few number of records but it has the highest mean value in bike ride duration, All the three months has many number of outliers and many of its bike rides is distributed around less than 20 minutes for the month February and March, whereas for the month april it spikes around 45 minutes for the type customer and 20 minutes for the type subscribers."
   ]
  },
  {
   "cell_type": "markdown",
   "metadata": {
    "slideshow": {
     "slide_type": "slide"
    }
   },
   "source": [
    "### FordGoBike usage by minutes as per day - Customers Vs Subcribers"
   ]
  },
  {
   "cell_type": "code",
   "execution_count": 83,
   "metadata": {
    "slideshow": {
     "slide_type": "subslide"
    }
   },
   "outputs": [
    {
     "name": "stderr",
     "output_type": "stream",
     "text": [
      "/opt/conda/lib/python3.6/site-packages/seaborn/axisgrid.py:703: UserWarning: Using the boxplot function without specifying `order` is likely to produce an incorrect plot.\n",
      "  warnings.warn(warning)\n"
     ]
    },
    {
     "data": {
      "text/plain": [
       "<matplotlib.figure.Figure at 0x7fbd5c09cc88>"
      ]
     },
     "metadata": {},
     "output_type": "display_data"
    },
    {
     "data": {
      "image/png": "[encoded data removed]",
      "text/plain": [
       "<matplotlib.figure.Figure at 0x7fbd5a248c18>"
      ]
     },
     "metadata": {
      "needs_background": "light"
     },
     "output_type": "display_data"
    }
   ],
   "source": [
    "plt.figure(figsize=(10,10));\n",
    "\n",
    "facet = sns.FacetGrid(data = df_clean, col = 'start_day', size = 5,col_wrap=3,margin_titles=True,sharex=True,sharey=True);\n",
    "facet.map(sns.boxplot, 'user_type', 'duration_min');\n",
    "plt.ylim(0,100);\n",
    "plt.suptitle('FordGoBike usage by minutes as per day - Customers Vs Subcribers',y=1.05,fontsize=16,fontweight='bold');\n",
    "facet.set_titles('{col_name}');\n"
   ]
  },
  {
   "cell_type": "markdown",
   "metadata": {
    "slideshow": {
     "slide_type": "slide"
    }
   },
   "source": [
    "From the above facet box plot we can conclude that subscriber maintains its steadines among all the seven days, whereas the customers bikes rides minutes shown some small peak on week ends which shows they have rented the bikes for their personal purpose not for office commutes."
   ]
  }
 ],
 "metadata": {
  "celltoolbar": "Slideshow",
  "kernelspec": {
   "display_name": "Python 3",
   "language": "python",
   "name": "python3"
  },
  "language_info": {
   "codemirror_mode": {
    "name": "ipython",
    "version": 3
   },
   "file_extension": ".py",
   "mimetype": "text/x-python",
   "name": "python",
   "nbconvert_exporter": "python",
   "pygments_lexer": "ipython3",
   "version": "3.6.3"
  }
 },
 "nbformat": 4,
 "nbformat_minor": 2
}
