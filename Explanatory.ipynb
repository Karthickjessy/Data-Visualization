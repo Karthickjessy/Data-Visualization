{
 "cells": [
  {
   "cell_type": "markdown",
   "metadata": {
    "slideshow": {
     "slide_type": "slide"
    }
   },
   "source": [
    "# Explanatory Data Analysis - Visualizing FordGo Bikes Data\n"
   ]
  },
  {
   "cell_type": "markdown",
   "metadata": {
    "slideshow": {
     "slide_type": "slide"
    }
   },
   "source": [
    "## Karthick Pandi\n"
   ]
  },
  {
   "cell_type": "markdown",
   "metadata": {
    "slideshow": {
     "slide_type": "slide"
    }
   },
   "source": [
    "### Introduction"
   ]
  },
  {
   "cell_type": "markdown",
   "metadata": {
    "slideshow": {
     "slide_type": "subslide"
    }
   },
   "source": [
    "Ford GoBike is a regional public bicycle sharing system in the San Francisco Bay Area, California. Beginning operation in August 2013 as Bay Area Bike Share, the Ford GoBike system currently has over 2,600 bicycles in 262 stations across San Francisco, East Bay and San Jose. On June 28, 2017, the system officially launched as Ford GoBike in a partnership with Ford Motor Company.\n",
    "\n",
    "Ford GoBike, like other bike share systems, consists of a fleet of specially designed, sturdy and durable bikes that are locked into a network of docking stations throughout the city. The bikes can be unlocked from one station and returned to any other station in the system, making them ideal for one-way trips. The bikes are available for use 24 hours/day, 7 days/week, 365 days/year and riders have access to all bikes in the network when they become a member or purchase a pass."
   ]
  },
  {
   "cell_type": "markdown",
   "metadata": {
    "slideshow": {
     "slide_type": "slide"
    }
   },
   "source": [
    "### Key Insights "
   ]
  },
  {
   "cell_type": "markdown",
   "metadata": {
    "slideshow": {
     "slide_type": "subslide"
    }
   },
   "source": [
    "<ol>\n",
    "<li>Whether Week days or Week end has more number of rides ? </li>\n",
    "<li>Which user type plays a major role in FordGo Bikes ?</li>\n",
    "<li>Among the three months which month has more rides ?</li>\n",
    "<li>For what purpose those bikes are rented i,e) (Office vs Personal)</li>\n",
    "</ol>\n"
   ]
  },
  {
   "cell_type": "code",
   "execution_count": 1,
   "metadata": {
    "slideshow": {
     "slide_type": "skip"
    }
   },
   "outputs": [],
   "source": [
    "import pandas as pd\n",
    "import glob \n",
    "import os\n",
    "import seaborn as sns\n",
    "import datetime as dt\n",
    "import matplotlib.pyplot as plt\n",
    "import warnings\n",
    "import numpy as np"
   ]
  },
  {
   "cell_type": "code",
   "execution_count": 5,
   "metadata": {
    "slideshow": {
     "slide_type": "skip"
    }
   },
   "outputs": [],
   "source": [
    "df_clean = pd.read_csv('f.csv')\n"
   ]
  },
  {
   "cell_type": "code",
   "execution_count": 7,
   "metadata": {
    "slideshow": {
     "slide_type": "skip"
    }
   },
   "outputs": [
    {
     "data": {
      "text/html": [
       "<div>\n",
       "<style scoped>\n",
       "    .dataframe tbody tr th:only-of-type {\n",
       "        vertical-align: middle;\n",
       "    }\n",
       "\n",
       "    .dataframe tbody tr th {\n",
       "        vertical-align: top;\n",
       "    }\n",
       "\n",
       "    .dataframe thead th {\n",
       "        text-align: right;\n",
       "    }\n",
       "</style>\n",
       "<table border=\"1\" class=\"dataframe\">\n",
       "  <thead>\n",
       "    <tr style=\"text-align: right;\">\n",
       "      <th></th>\n",
       "      <th>bike_id</th>\n",
       "      <th>user_type</th>\n",
       "      <th>startdate</th>\n",
       "      <th>starttime</th>\n",
       "      <th>start_date</th>\n",
       "      <th>start_month</th>\n",
       "      <th>start_day</th>\n",
       "      <th>start_year</th>\n",
       "      <th>start_hour</th>\n",
       "      <th>enddate</th>\n",
       "      <th>...</th>\n",
       "      <th>duration_min</th>\n",
       "      <th>duration_sec</th>\n",
       "      <th>start_station_id</th>\n",
       "      <th>start_station_name</th>\n",
       "      <th>start_station_latitude</th>\n",
       "      <th>start_station_longitude</th>\n",
       "      <th>end_station_id</th>\n",
       "      <th>end_station_name</th>\n",
       "      <th>end_station_latitude</th>\n",
       "      <th>end_station_longitude</th>\n",
       "    </tr>\n",
       "  </thead>\n",
       "  <tbody>\n",
       "    <tr>\n",
       "      <th>0</th>\n",
       "      <td>10982</td>\n",
       "      <td>Customer</td>\n",
       "      <td>2020-03-31</td>\n",
       "      <td>20:42:10.07</td>\n",
       "      <td>31</td>\n",
       "      <td>Mar</td>\n",
       "      <td>Tuesday</td>\n",
       "      <td>2020</td>\n",
       "      <td>20</td>\n",
       "      <td>2020-04-01</td>\n",
       "      <td>...</td>\n",
       "      <td>586</td>\n",
       "      <td>35187.0</td>\n",
       "      <td>462.0</td>\n",
       "      <td>Cruise Terminal at Pier 27</td>\n",
       "      <td>37.804648</td>\n",
       "      <td>-122.402087</td>\n",
       "      <td>24.0</td>\n",
       "      <td>Spear St at Folsom St</td>\n",
       "      <td>37.789677</td>\n",
       "      <td>-122.390428</td>\n",
       "    </tr>\n",
       "    <tr>\n",
       "      <th>1</th>\n",
       "      <td>12617</td>\n",
       "      <td>Customer</td>\n",
       "      <td>2020-03-31</td>\n",
       "      <td>22:45:25.50</td>\n",
       "      <td>31</td>\n",
       "      <td>Mar</td>\n",
       "      <td>Tuesday</td>\n",
       "      <td>2020</td>\n",
       "      <td>22</td>\n",
       "      <td>2020-04-01</td>\n",
       "      <td>...</td>\n",
       "      <td>242</td>\n",
       "      <td>14568.0</td>\n",
       "      <td>42.0</td>\n",
       "      <td>San Francisco City Hall (Polk St at Grove St)</td>\n",
       "      <td>37.778650</td>\n",
       "      <td>-122.418230</td>\n",
       "      <td>370.0</td>\n",
       "      <td>Jones St at Post St</td>\n",
       "      <td>37.787327</td>\n",
       "      <td>-122.413278</td>\n",
       "    </tr>\n",
       "    <tr>\n",
       "      <th>2</th>\n",
       "      <td>12812</td>\n",
       "      <td>Customer</td>\n",
       "      <td>2020-03-31</td>\n",
       "      <td>15:08:22.33</td>\n",
       "      <td>31</td>\n",
       "      <td>Mar</td>\n",
       "      <td>Tuesday</td>\n",
       "      <td>2020</td>\n",
       "      <td>15</td>\n",
       "      <td>2020-04-01</td>\n",
       "      <td>...</td>\n",
       "      <td>599</td>\n",
       "      <td>35990.0</td>\n",
       "      <td>391.0</td>\n",
       "      <td>1st St at Younger Ave</td>\n",
       "      <td>37.355030</td>\n",
       "      <td>-121.904436</td>\n",
       "      <td>397.0</td>\n",
       "      <td>Gish Rd at 1st St</td>\n",
       "      <td>37.361867</td>\n",
       "      <td>-121.909315</td>\n",
       "    </tr>\n",
       "    <tr>\n",
       "      <th>3</th>\n",
       "      <td>12955</td>\n",
       "      <td>Customer</td>\n",
       "      <td>2020-03-31</td>\n",
       "      <td>23:55:00.42</td>\n",
       "      <td>31</td>\n",
       "      <td>Mar</td>\n",
       "      <td>Tuesday</td>\n",
       "      <td>2020</td>\n",
       "      <td>23</td>\n",
       "      <td>2020-04-01</td>\n",
       "      <td>...</td>\n",
       "      <td>17</td>\n",
       "      <td>1068.0</td>\n",
       "      <td>456.0</td>\n",
       "      <td>Arguello Blvd at Geary Blvd</td>\n",
       "      <td>37.781468</td>\n",
       "      <td>-122.458806</td>\n",
       "      <td>107.0</td>\n",
       "      <td>17th St at Dolores St</td>\n",
       "      <td>37.763015</td>\n",
       "      <td>-122.426497</td>\n",
       "    </tr>\n",
       "    <tr>\n",
       "      <th>4</th>\n",
       "      <td>13050</td>\n",
       "      <td>Customer</td>\n",
       "      <td>2020-03-31</td>\n",
       "      <td>23:00:55.64</td>\n",
       "      <td>31</td>\n",
       "      <td>Mar</td>\n",
       "      <td>Tuesday</td>\n",
       "      <td>2020</td>\n",
       "      <td>23</td>\n",
       "      <td>2020-03-31</td>\n",
       "      <td>...</td>\n",
       "      <td>55</td>\n",
       "      <td>3300.0</td>\n",
       "      <td>6.0</td>\n",
       "      <td>The Embarcadero at Sansome St</td>\n",
       "      <td>37.804770</td>\n",
       "      <td>-122.403234</td>\n",
       "      <td>24.0</td>\n",
       "      <td>Spear St at Folsom St</td>\n",
       "      <td>37.789677</td>\n",
       "      <td>-122.390428</td>\n",
       "    </tr>\n",
       "  </tbody>\n",
       "</table>\n",
       "<p>5 rows × 27 columns</p>\n",
       "</div>"
      ],
      "text/plain": [
       "   bike_id user_type   startdate     starttime  start_date start_month  \\\n",
       "0    10982  Customer  2020-03-31   20:42:10.07          31         Mar   \n",
       "1    12617  Customer  2020-03-31   22:45:25.50          31         Mar   \n",
       "2    12812  Customer  2020-03-31   15:08:22.33          31         Mar   \n",
       "3    12955  Customer  2020-03-31   23:55:00.42          31         Mar   \n",
       "4    13050  Customer  2020-03-31   23:00:55.64          31         Mar   \n",
       "\n",
       "  start_day  start_year  start_hour     enddate          ...            \\\n",
       "0   Tuesday        2020          20  2020-04-01          ...             \n",
       "1   Tuesday        2020          22  2020-04-01          ...             \n",
       "2   Tuesday        2020          15  2020-04-01          ...             \n",
       "3   Tuesday        2020          23  2020-04-01          ...             \n",
       "4   Tuesday        2020          23  2020-03-31          ...             \n",
       "\n",
       "  duration_min  duration_sec start_station_id  \\\n",
       "0          586       35187.0            462.0   \n",
       "1          242       14568.0             42.0   \n",
       "2          599       35990.0            391.0   \n",
       "3           17        1068.0            456.0   \n",
       "4           55        3300.0              6.0   \n",
       "\n",
       "                              start_station_name  start_station_latitude  \\\n",
       "0                     Cruise Terminal at Pier 27               37.804648   \n",
       "1  San Francisco City Hall (Polk St at Grove St)               37.778650   \n",
       "2                          1st St at Younger Ave               37.355030   \n",
       "3                    Arguello Blvd at Geary Blvd               37.781468   \n",
       "4                  The Embarcadero at Sansome St               37.804770   \n",
       "\n",
       "   start_station_longitude end_station_id       end_station_name  \\\n",
       "0              -122.402087           24.0  Spear St at Folsom St   \n",
       "1              -122.418230          370.0    Jones St at Post St   \n",
       "2              -121.904436          397.0      Gish Rd at 1st St   \n",
       "3              -122.458806          107.0  17th St at Dolores St   \n",
       "4              -122.403234           24.0  Spear St at Folsom St   \n",
       "\n",
       "   end_station_latitude  end_station_longitude  \n",
       "0             37.789677            -122.390428  \n",
       "1             37.787327            -122.413278  \n",
       "2             37.361867            -121.909315  \n",
       "3             37.763015            -122.426497  \n",
       "4             37.789677            -122.390428  \n",
       "\n",
       "[5 rows x 27 columns]"
      ]
     },
     "execution_count": 7,
     "metadata": {},
     "output_type": "execute_result"
    }
   ],
   "source": [
    "df_clean.head()"
   ]
  },
  {
   "cell_type": "code",
   "execution_count": 11,
   "metadata": {
    "slideshow": {
     "slide_type": "skip"
    }
   },
   "outputs": [],
   "source": [
    "base_color = sns.color_palette()[0]"
   ]
  },
  {
   "cell_type": "markdown",
   "metadata": {
    "slideshow": {
     "slide_type": "slide"
    }
   },
   "source": [
    "### 1)\tWhether Week days or Week end has more number of rides ?"
   ]
  },
  {
   "cell_type": "code",
   "execution_count": 12,
   "metadata": {
    "slideshow": {
     "slide_type": "subslide"
    }
   },
   "outputs": [
    {
     "data": {
      "image/png": "[encoded data removed]",
      "text/plain": [
       "<matplotlib.figure.Figure at 0x7f97e4445160>"
      ]
     },
     "metadata": {
      "needs_background": "light"
     },
     "output_type": "display_data"
    }
   ],
   "source": [
    "plt.figure(figsize=(7,7));\n",
    "level_order1 = [\"Sunday\",\"Monday\",\"Tuesday\",\"Wednesday\",\"Thursday\",\"Friday\",\"Saturday\"]\n",
    "ordered_day = pd.api.types.CategoricalDtype(level_order1);\n",
    "df_clean[\"start_day\"] = df_clean[\"start_day\"].astype(ordered_day);\n",
    "sns.countplot(data=df_clean,x=\"start_day\",color=base_color);\n",
    "plt.xticks(rotation = 30);\n",
    "plt.xlabel(\"Days in a week\");\n",
    "plt.ylabel(\"Number of bikes rented\");\n",
    "plt.suptitle('FordGoBike usage by day',y=1.05,fontsize=16,fontweight='bold');\n",
    "n_points= df_clean.shape[0]\n",
    "cat_counts = df_clean.start_day.value_counts()\n",
    "locs, labels = plt.xticks()\n",
    "for loc, label in zip(locs, labels):\n",
    "    count = cat_counts[label.get_text()]\n",
    "    pct_string = '{:1.5f}%'.format(100*count/n_points)\n",
    "    plt.text(loc, count-5, pct_string, ha = 'center', color = 'r')"
   ]
  },
  {
   "cell_type": "markdown",
   "metadata": {
    "slideshow": {
     "slide_type": "slide"
    }
   },
   "source": [
    "#### Observation"
   ]
  },
  {
   "cell_type": "markdown",
   "metadata": {
    "slideshow": {
     "slide_type": "subslide"
    }
   },
   "source": [
    "It is conclusive from the graph that more number of bikes has been rented on week days than in week ends. There might be possibilities like most of the bikes has been rented by the office proffesional on week days and also it is clear from the wikipedia info that the wheather is good on these months which makes the office proffessinal to prefer bikes."
   ]
  },
  {
   "cell_type": "markdown",
   "metadata": {
    "slideshow": {
     "slide_type": "slide"
    }
   },
   "source": [
    "### 2)\tWhich user type plays a major role in FordGo Bikes ?"
   ]
  },
  {
   "cell_type": "code",
   "execution_count": 13,
   "metadata": {
    "slideshow": {
     "slide_type": "subslide"
    }
   },
   "outputs": [
    {
     "data": {
      "image/png": "[encoded data removed]",
      "text/plain": [
       "<matplotlib.figure.Figure at 0x7f97e3f808d0>"
      ]
     },
     "metadata": {
      "needs_background": "light"
     },
     "output_type": "display_data"
    }
   ],
   "source": [
    "plt.figure(figsize=(8, 5))\n",
    "\n",
    "df_clean_user_week = df_clean.groupby(['start_day', 'user_type']).size().reset_index()\n",
    "\n",
    "weekday = ['Monday', 'Tuesday', 'Wednesday', 'Thursday', 'Friday', 'Saturday', 'Sunday']\n",
    "\n",
    "ax = sns.pointplot(data=df_clean_user_week, x='start_day', y=0, hue = 'user_type', scale=.7, order = weekday);\n",
    "\n",
    "plt.suptitle('Ford GoBike System Weekly Usage - Customers vs. Subscribers', y=1.05, fontsize=16, fontweight='bold');\n",
    "plt.xlabel('Weekday')\n",
    "plt.ylabel('Total number of bike trips');\n",
    "plt.grid()"
   ]
  },
  {
   "cell_type": "markdown",
   "metadata": {
    "slideshow": {
     "slide_type": "slide"
    }
   },
   "source": [
    "#### Observation\n"
   ]
  },
  {
   "cell_type": "markdown",
   "metadata": {
    "slideshow": {
     "slide_type": "subslide"
    }
   },
   "source": [
    "From the above pointplot we can conclude that Week end has encounters some drop when compared to Week days. On week days Customer has more than 50% in number (bike rides) when compared to user type Subscribers."
   ]
  },
  {
   "cell_type": "markdown",
   "metadata": {
    "slideshow": {
     "slide_type": "slide"
    }
   },
   "source": [
    "### 3)\tAmong the three months which month has more rides ?"
   ]
  },
  {
   "cell_type": "code",
   "execution_count": 14,
   "metadata": {
    "slideshow": {
     "slide_type": "subslide"
    }
   },
   "outputs": [
    {
     "data": {
      "image/png": "[encoded data removed]",
      "text/plain": [
       "<matplotlib.figure.Figure at 0x7f97e3ed5160>"
      ]
     },
     "metadata": {
      "needs_background": "light"
     },
     "output_type": "display_data"
    }
   ],
   "source": [
    "plt.figure(figsize=(7,7));\n",
    "level_order = [\"Feb\",\"Mar\",\"Apr\"]\n",
    "ordered_month = pd.api.types.CategoricalDtype(level_order);\n",
    "df_clean[\"start_month\"] = df_clean[\"start_month\"].astype(ordered_month);\n",
    "sns.countplot(data=df_clean,x=\"start_month\",color=base_color);\n",
    "plt.xlabel(\"Month\");\n",
    "plt.ylabel(\"Total number of bike trips\");\n",
    "plt.suptitle('FordGoBike usage by month',y=1.05,fontsize=16,fontweight='bold');\n",
    "n_points= df_clean.shape[0]\n",
    "cat_counts = df_clean.start_month.value_counts()\n",
    "locs, labels = plt.xticks()\n",
    "for loc, label in zip(locs, labels):\n",
    "    count = cat_counts[label.get_text()]\n",
    "    pct_string = '{:1.5f}%'.format(100*count/n_points)\n",
    "    plt.text(loc, count-8, pct_string, ha = 'center', color = 'r')"
   ]
  },
  {
   "cell_type": "markdown",
   "metadata": {
    "slideshow": {
     "slide_type": "slide"
    }
   },
   "source": [
    "### Observation"
   ]
  },
  {
   "cell_type": "markdown",
   "metadata": {
    "slideshow": {
     "slide_type": "subslide"
    }
   },
   "source": [
    "It is evident from the above graph that February is the month where there are more number of bikes has been rented for the year 2020 and April places the last position in the number of bikes rented. As per the wikipedia info San fransisco bay area is more  sunnier in february  when compared to normal summer months."
   ]
  },
  {
   "cell_type": "markdown",
   "metadata": {
    "slideshow": {
     "slide_type": "slide"
    }
   },
   "source": [
    "### 4)\tFor what purpose those bikes are rented i,e) (Office vs Personal) "
   ]
  },
  {
   "cell_type": "code",
   "execution_count": 15,
   "metadata": {
    "slideshow": {
     "slide_type": "subslide"
    }
   },
   "outputs": [
    {
     "data": {
      "image/png": "[encoded data removed]",
      "text/plain": [
       "<matplotlib.figure.Figure at 0x7f97e3ee66a0>"
      ]
     },
     "metadata": {
      "needs_background": "light"
     },
     "output_type": "display_data"
    }
   ],
   "source": [
    "plt.figure(figsize=(7,7))\n",
    "bin_edges = np.arange(0,3600,60)\n",
    "plt.hist(data=df_clean,x=\"duration_sec\",bins=bin_edges,rwidth=0.7);\n",
    "plt.suptitle('FordGoBike usage by seconds',y=1.05,fontsize=16,fontweight='bold');\n",
    "plt.xlabel(\"Duration (sec)\")\n",
    "plt.ylabel(\"Number of bikes rented\");\n"
   ]
  },
  {
   "cell_type": "markdown",
   "metadata": {
    "slideshow": {
     "slide_type": "slide"
    }
   },
   "source": [
    "### Observation"
   ]
  },
  {
   "cell_type": "markdown",
   "metadata": {
    "slideshow": {
     "slide_type": "subslide"
    }
   },
   "source": [
    "Looking at the histogram, we can see that trip durations are no longer than 30 min (1800 sec) and usually last 6 to 15 min.As it looks like people use the system for commuting, they trips are usually short in time probably due to the closeness of their homes to workplace.\n",
    "\n"
   ]
  },
  {
   "cell_type": "markdown",
   "metadata": {
    "slideshow": {
     "slide_type": "slide"
    }
   },
   "source": [
    "### Summary and Findings"
   ]
  },
  {
   "cell_type": "markdown",
   "metadata": {
    "slideshow": {
     "slide_type": "subslide"
    }
   },
   "source": [
    "<ul>\n",
    "<li>From this dataset we conclude that Week days has more number of rides when compared to week ends.</li>\n",
    "<li>For the first two months Customers are high in number and for the last month Subscribers are high when compared to Customers. This implies FordGo bikes has launch some special schemes for increasing the Subscribers.</li>\n",
    "<li>Most of the bikes has been rented for the purpose of office commute. This can be evident from the above plat like most of the bikes has been rented on 8 – 9 AM, and most of the rides has been completed within 30 minutes. This implies these bikes are not rented for any personal purposes.</li>\n",
    "    </ul\n"
   ]
  }
 ],
 "metadata": {
  "celltoolbar": "Slideshow",
  "kernelspec": {
   "display_name": "Python 3",
   "language": "python",
   "name": "python3"
  },
  "language_info": {
   "codemirror_mode": {
    "name": "ipython",
    "version": 3
   },
   "file_extension": ".py",
   "mimetype": "text/x-python",
   "name": "python",
   "nbconvert_exporter": "python",
   "pygments_lexer": "ipython3",
   "version": "3.6.3"
  }
 },
 "nbformat": 4,
 "nbformat_minor": 2
}
